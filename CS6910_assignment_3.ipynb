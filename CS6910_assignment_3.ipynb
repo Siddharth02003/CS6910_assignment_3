{
  "cells": [
    {
      "cell_type": "markdown",
      "metadata": {
        "id": "view-in-github",
        "colab_type": "text"
      },
      "source": [
        "<a href=\"https://colab.research.google.com/github/Siddharth02003/CS6910_assignment_3/blob/main/CS6910_assignment_3.ipynb\" target=\"_parent\"><img src=\"https://colab.research.google.com/assets/colab-badge.svg\" alt=\"Open In Colab\"/></a>"
      ]
    },
    {
      "cell_type": "code",
      "execution_count": 1,
      "metadata": {
        "id": "dMpK8svJ0ON1"
      },
      "outputs": [],
      "source": [
        "import numpy as np\n",
        "import pandas as pd\n",
        "import os\n",
        "import sys\n",
        "import torch\n",
        "from torch.utils.data import Dataset, DataLoader\n",
        "import torch\n",
        "import torch.nn as nn\n",
        "from torch.optim import Adam\n",
        "import random\n",
        "from tqdm import tqdm\n",
        "import sys\n",
        "from argparse import ArgumentParser\n",
        "import numpy as np"
      ]
    },
    {
      "cell_type": "code",
      "source": [
        "!pip install wandb -qqq\n",
        "import wandb"
      ],
      "metadata": {
        "colab": {
          "base_uri": "https://localhost:8080/"
        },
        "id": "lwarwcFKNB4R",
        "outputId": "8b6d74bd-59fb-4958-d953-4f5921204a07"
      },
      "execution_count": 2,
      "outputs": [
        {
          "output_type": "stream",
          "name": "stdout",
          "text": [
            "\u001b[2K     \u001b[90m━━━━━━━━━━━━━━━━━━━━━━━━━━━━━━━━━━━━━━━━\u001b[0m \u001b[32m2.0/2.0 MB\u001b[0m \u001b[31m36.1 MB/s\u001b[0m eta \u001b[36m0:00:00\u001b[0m\n",
            "\u001b[2K     \u001b[90m━━━━━━━━━━━━━━━━━━━━━━━━━━━━━━━━━━━━━━\u001b[0m \u001b[32m184.3/184.3 kB\u001b[0m \u001b[31m11.8 MB/s\u001b[0m eta \u001b[36m0:00:00\u001b[0m\n",
            "\u001b[2K     \u001b[90m━━━━━━━━━━━━━━━━━━━━━━━━━━━━━━━━━━━━━━\u001b[0m \u001b[32m205.1/205.1 kB\u001b[0m \u001b[31m24.1 MB/s\u001b[0m eta \u001b[36m0:00:00\u001b[0m\n",
            "\u001b[?25h  Preparing metadata (setup.py) ... \u001b[?25l\u001b[?25hdone\n",
            "\u001b[2K     \u001b[90m━━━━━━━━━━━━━━━━━━━━━━━━━━━━━━━━━━━━━━━━\u001b[0m \u001b[32m62.7/62.7 kB\u001b[0m \u001b[31m5.5 MB/s\u001b[0m eta \u001b[36m0:00:00\u001b[0m\n",
            "\u001b[?25h  Building wheel for pathtools (setup.py) ... \u001b[?25l\u001b[?25hdone\n"
          ]
        }
      ]
    },
    {
      "cell_type": "code",
      "source": [
        "!wandb login --relogin\n",
        "entity_name=\"siddharth-s\"\n",
        "\n",
        "project_name=\"FODL_Assignment_3\""
      ],
      "metadata": {
        "colab": {
          "base_uri": "https://localhost:8080/"
        },
        "id": "b6MryStnNEMa",
        "outputId": "27f68982-11ee-4fdf-fa0e-8b6648fc2533"
      },
      "execution_count": 3,
      "outputs": [
        {
          "output_type": "stream",
          "name": "stdout",
          "text": [
            "\u001b[34m\u001b[1mwandb\u001b[0m: Logging into wandb.ai. (Learn how to deploy a W&B server locally: https://wandb.me/wandb-server)\n",
            "\u001b[34m\u001b[1mwandb\u001b[0m: You can find your API key in your browser here: https://wandb.ai/authorize\n",
            "\u001b[34m\u001b[1mwandb\u001b[0m: Paste an API key from your profile and hit enter, or press ctrl+c to quit: \n",
            "\u001b[34m\u001b[1mwandb\u001b[0m: Appending key for api.wandb.ai to your netrc file: /root/.netrc\n"
          ]
        }
      ]
    },
    {
      "cell_type": "code",
      "execution_count": 4,
      "metadata": {
        "colab": {
          "base_uri": "https://localhost:8080/",
          "height": 665
        },
        "id": "4hiPvuP11LqA",
        "outputId": "8884cb68-d463-4764-e609-580e1a61bbe8"
      },
      "outputs": [
        {
          "output_type": "execute_result",
          "data": {
            "text/plain": [
              "       shastragaar शस्त्रागार\n",
              "0          bindhya   बिन्द्या\n",
              "1        kirankant   किरणकांत\n",
              "2      yagyopaveet  यज्ञोपवीत\n",
              "3          ratania    रटानिया\n",
              "4       vaganyache  वागण्याचे\n",
              "...            ...        ...\n",
              "51194        toned       टोंड\n",
              "51195   mutanaazaa   मुतनाज़ा\n",
              "51196    asahmaton    असहमतों\n",
              "51197    sulgaayin   सुलगायीं\n",
              "51198  anchuthengu  अंचुतेंगु\n",
              "\n",
              "[51199 rows x 2 columns]"
            ],
            "text/html": [
              "\n",
              "  <div id=\"df-100ca726-0946-475d-8620-1d45d37b28a5\">\n",
              "    <div class=\"colab-df-container\">\n",
              "      <div>\n",
              "<style scoped>\n",
              "    .dataframe tbody tr th:only-of-type {\n",
              "        vertical-align: middle;\n",
              "    }\n",
              "\n",
              "    .dataframe tbody tr th {\n",
              "        vertical-align: top;\n",
              "    }\n",
              "\n",
              "    .dataframe thead th {\n",
              "        text-align: right;\n",
              "    }\n",
              "</style>\n",
              "<table border=\"1\" class=\"dataframe\">\n",
              "  <thead>\n",
              "    <tr style=\"text-align: right;\">\n",
              "      <th></th>\n",
              "      <th>shastragaar</th>\n",
              "      <th>शस्त्रागार</th>\n",
              "    </tr>\n",
              "  </thead>\n",
              "  <tbody>\n",
              "    <tr>\n",
              "      <th>0</th>\n",
              "      <td>bindhya</td>\n",
              "      <td>बिन्द्या</td>\n",
              "    </tr>\n",
              "    <tr>\n",
              "      <th>1</th>\n",
              "      <td>kirankant</td>\n",
              "      <td>किरणकांत</td>\n",
              "    </tr>\n",
              "    <tr>\n",
              "      <th>2</th>\n",
              "      <td>yagyopaveet</td>\n",
              "      <td>यज्ञोपवीत</td>\n",
              "    </tr>\n",
              "    <tr>\n",
              "      <th>3</th>\n",
              "      <td>ratania</td>\n",
              "      <td>रटानिया</td>\n",
              "    </tr>\n",
              "    <tr>\n",
              "      <th>4</th>\n",
              "      <td>vaganyache</td>\n",
              "      <td>वागण्याचे</td>\n",
              "    </tr>\n",
              "    <tr>\n",
              "      <th>...</th>\n",
              "      <td>...</td>\n",
              "      <td>...</td>\n",
              "    </tr>\n",
              "    <tr>\n",
              "      <th>51194</th>\n",
              "      <td>toned</td>\n",
              "      <td>टोंड</td>\n",
              "    </tr>\n",
              "    <tr>\n",
              "      <th>51195</th>\n",
              "      <td>mutanaazaa</td>\n",
              "      <td>मुतनाज़ा</td>\n",
              "    </tr>\n",
              "    <tr>\n",
              "      <th>51196</th>\n",
              "      <td>asahmaton</td>\n",
              "      <td>असहमतों</td>\n",
              "    </tr>\n",
              "    <tr>\n",
              "      <th>51197</th>\n",
              "      <td>sulgaayin</td>\n",
              "      <td>सुलगायीं</td>\n",
              "    </tr>\n",
              "    <tr>\n",
              "      <th>51198</th>\n",
              "      <td>anchuthengu</td>\n",
              "      <td>अंचुतेंगु</td>\n",
              "    </tr>\n",
              "  </tbody>\n",
              "</table>\n",
              "<p>51199 rows × 2 columns</p>\n",
              "</div>\n",
              "      <button class=\"colab-df-convert\" onclick=\"convertToInteractive('df-100ca726-0946-475d-8620-1d45d37b28a5')\"\n",
              "              title=\"Convert this dataframe to an interactive table.\"\n",
              "              style=\"display:none;\">\n",
              "        \n",
              "  <svg xmlns=\"http://www.w3.org/2000/svg\" height=\"24px\"viewBox=\"0 0 24 24\"\n",
              "       width=\"24px\">\n",
              "    <path d=\"M0 0h24v24H0V0z\" fill=\"none\"/>\n",
              "    <path d=\"M18.56 5.44l.94 2.06.94-2.06 2.06-.94-2.06-.94-.94-2.06-.94 2.06-2.06.94zm-11 1L8.5 8.5l.94-2.06 2.06-.94-2.06-.94L8.5 2.5l-.94 2.06-2.06.94zm10 10l.94 2.06.94-2.06 2.06-.94-2.06-.94-.94-2.06-.94 2.06-2.06.94z\"/><path d=\"M17.41 7.96l-1.37-1.37c-.4-.4-.92-.59-1.43-.59-.52 0-1.04.2-1.43.59L10.3 9.45l-7.72 7.72c-.78.78-.78 2.05 0 2.83L4 21.41c.39.39.9.59 1.41.59.51 0 1.02-.2 1.41-.59l7.78-7.78 2.81-2.81c.8-.78.8-2.07 0-2.86zM5.41 20L4 18.59l7.72-7.72 1.47 1.35L5.41 20z\"/>\n",
              "  </svg>\n",
              "      </button>\n",
              "      \n",
              "  <style>\n",
              "    .colab-df-container {\n",
              "      display:flex;\n",
              "      flex-wrap:wrap;\n",
              "      gap: 12px;\n",
              "    }\n",
              "\n",
              "    .colab-df-convert {\n",
              "      background-color: #E8F0FE;\n",
              "      border: none;\n",
              "      border-radius: 50%;\n",
              "      cursor: pointer;\n",
              "      display: none;\n",
              "      fill: #1967D2;\n",
              "      height: 32px;\n",
              "      padding: 0 0 0 0;\n",
              "      width: 32px;\n",
              "    }\n",
              "\n",
              "    .colab-df-convert:hover {\n",
              "      background-color: #E2EBFA;\n",
              "      box-shadow: 0px 1px 2px rgba(60, 64, 67, 0.3), 0px 1px 3px 1px rgba(60, 64, 67, 0.15);\n",
              "      fill: #174EA6;\n",
              "    }\n",
              "\n",
              "    [theme=dark] .colab-df-convert {\n",
              "      background-color: #3B4455;\n",
              "      fill: #D2E3FC;\n",
              "    }\n",
              "\n",
              "    [theme=dark] .colab-df-convert:hover {\n",
              "      background-color: #434B5C;\n",
              "      box-shadow: 0px 1px 3px 1px rgba(0, 0, 0, 0.15);\n",
              "      filter: drop-shadow(0px 1px 2px rgba(0, 0, 0, 0.3));\n",
              "      fill: #FFFFFF;\n",
              "    }\n",
              "  </style>\n",
              "\n",
              "      <script>\n",
              "        const buttonEl =\n",
              "          document.querySelector('#df-100ca726-0946-475d-8620-1d45d37b28a5 button.colab-df-convert');\n",
              "        buttonEl.style.display =\n",
              "          google.colab.kernel.accessAllowed ? 'block' : 'none';\n",
              "\n",
              "        async function convertToInteractive(key) {\n",
              "          const element = document.querySelector('#df-100ca726-0946-475d-8620-1d45d37b28a5');\n",
              "          const dataTable =\n",
              "            await google.colab.kernel.invokeFunction('convertToInteractive',\n",
              "                                                     [key], {});\n",
              "          if (!dataTable) return;\n",
              "\n",
              "          const docLinkHtml = 'Like what you see? Visit the ' +\n",
              "            '<a target=\"_blank\" href=https://colab.research.google.com/notebooks/data_table.ipynb>data table notebook</a>'\n",
              "            + ' to learn more about interactive tables.';\n",
              "          element.innerHTML = '';\n",
              "          dataTable['output_type'] = 'display_data';\n",
              "          await google.colab.output.renderOutput(dataTable, element);\n",
              "          const docLink = document.createElement('div');\n",
              "          docLink.innerHTML = docLinkHtml;\n",
              "          element.appendChild(docLink);\n",
              "        }\n",
              "      </script>\n",
              "    </div>\n",
              "  </div>\n",
              "  "
            ]
          },
          "metadata": {},
          "execution_count": 4
        },
        {
          "output_type": "stream",
          "name": "stdout",
          "text": [
            "Warning: total number of rows (51199) exceeds max_rows (20000). Limiting to first (20000) rows.\n"
          ]
        }
      ],
      "source": [
        "data=pd.read_csv(\"/content/drive/MyDrive/aksharantar_sampled/hin/hin_train.csv\")\n",
        "data"
      ]
    },
    {
      "cell_type": "code",
      "source": [
        "'''\n",
        "Dataset class is responsible for cleaning and processing the word data, \n",
        "and making a dictionary\n",
        "'''\n",
        "class MyDataset(torch.utils.data.Dataset):\n",
        "    def __init__(self, my_path, batch_size=1, my_lang=\"hin\", my_type=\"train\", start_of_word=\"\\t\", end_of_word=\"\\n\"):\n",
        "        self.my_path = os.path.join(my_path, my_lang)\n",
        "        self.my_path = list(map(lambda x: os.path.join(self.my_path, x), sorted(os.listdir(self.my_path))))\n",
        "        self.start_of_word = start_of_word\n",
        "        self.end_of_word = end_of_word\n",
        "        self.batch_size = batch_size\n",
        "        self.my_type = my_type.lower()\n",
        "\n",
        "        self.data_x, self.data_y = None, None\n",
        "\n",
        "        self.data = self.read_my_data()\n",
        "        self.tokenize()\n",
        "        self.process_data()\n",
        "\n",
        "    def read_my_data(my_path: str, start_of_word, end_of_word):\n",
        "        with open(my_path, \"r\") as f:\n",
        "            lines = [line.split(\",\") for line in f.read().split(\"\\n\") if line != '']\n",
        "            \n",
        "        lines = [[start_of_word + s + end_of_word for s in line] for line in lines]\n",
        "        return lines\n",
        "\n",
        "    def read_my_data(self):\n",
        "        self.test, self.train, self.val = [self.read_my_data(i, self.start_of_word, self.end_of_word) for i in self.my_path]\n",
        "\n",
        "    def tokenize(self):\n",
        "        x_tokens, y_tokens = set(), set()\n",
        "        self.max_x_length, self.max_y_length = -1, -1\n",
        "\n",
        "        for x, y in self.train:\n",
        "            for ch in x:\n",
        "                x_tokens.add(ch)\n",
        "         \n",
        "            for ch in y:\n",
        "                y_tokens.add(ch)\n",
        "\n",
        "        self.x_tokens, self.y_tokens = sorted(list(x_tokens)), sorted(list(y_tokens))\n",
        "\n",
        "        self.x_length, self.y_length = len(self.x_tokens) + 2, len(self.y_tokens) + 2\n",
        "\n",
        "        self.x_to_index = {ch: i + 2 for i, ch in enumerate(self.x_tokens)}\n",
        "        self.y_to_index = {ch: i + 2 for i, ch in enumerate(self.y_tokens)}\n",
        "        \n",
        "        self.x_to_index[\" \"] = 0\n",
        "        self.y_to_index[\" \"] = 0\n",
        "\n",
        "        self.x_to_index[\"unk\"] = 1\n",
        "        self.y_to_index[\"unk\"] = 1\n",
        "\n",
        "        self.index_to_x = {i: char for char, i in self.x_to_index.items()}\n",
        "        self.index_to_y = {i: char for char, i in self.y_to_index.items()}\n",
        "\n",
        "    def process_data(self):\n",
        "        for (x, y) in self.data:\n",
        "            self.max_x_length = max(self.max_x_length, len(x))\n",
        "            self.max_y_length = max(self.max_y_length, len(y)) \n",
        "\n",
        "        a = torch.zeros((len(self.data), self.max_x_length), dtype=torch.long)\n",
        "        b = torch.zeros((len(self.data), self.max_y_length), dtype=torch.long)\n",
        "\n",
        "        for i, [x, y] in enumerate(self.data):\n",
        "            for j, ch in enumerate(x):\n",
        "                if ch in self.x_to_index.keys():\n",
        "                    a[i, j] = self.x_to_index[ch]\n",
        "                else:\n",
        "                    a[i, j] = self.x_to_index[\"unk\"]\n",
        "\n",
        "            a[i,j+1:] = self.x_to_index[\" \"]\n",
        "            \n",
        "            for j, ch in enumerate(y):\n",
        "                if ch in self.y_to_index.keys():\n",
        "                    b[i, j] = self.y_to_index[ch]\n",
        "                else:\n",
        "                    b[i, j] = self.y_to_index[\"unk\"]\n",
        "\n",
        "            b[i,j+1:] = self.y_to_index[\" \"]\n",
        "        return a,b"
      ],
      "metadata": {
        "id": "esE3fK5vNBBq"
      },
      "execution_count": 4,
      "outputs": []
    },
    {
      "cell_type": "code",
      "execution_count": null,
      "metadata": {
        "id": "N4NfSdmD227k"
      },
      "outputs": [],
      "source": [
        "path = \"/content/drive/MyDrive/aksharantar_sampled/\"\n",
        "data= dataset(path, typ=\"test\")\n",
        "dataloader = DataLoader(data, batch_size=32)\n",
        "for trainx, trainy in dataloader:\n",
        "      print(trainx.shape)\n",
        "      print(trainy.shape)"
      ]
    },
    {
      "cell_type": "code",
      "source": [
        "def calculate_word_accuracy(predictions: torch.Tensor, targets: torch.Tensor) -> float:\n",
        "    predicted_indices = torch.argmax(predictions, dim=1)\n",
        "    batch_size = targets.shape[0]\n",
        "\n",
        "    with torch.no_grad():\n",
        "        correct_count = 0\n",
        "        for i in range(batch_size):\n",
        "            if (predicted_indices[i] == targets[i]).sum().item() == targets.shape[1]:\n",
        "                correct_count += 1\n",
        "    \n",
        "    return correct_count / batch_size\n",
        "\n",
        "def calculate_char_accuracy(predictions: torch.Tensor, targets: torch.Tensor) -> float:\n",
        "    num_chars = predictions.shape[1]\n",
        "    batch_size = predictions.shape[0]\n",
        "\n",
        "    with torch.no_grad():\n",
        "        predicted_indices = torch.argmax(predictions, dim=1)\n",
        "        correct_count = (predicted_indices == targets).sum().item()\n",
        "  \n",
        "    return correct_count / (num_chars * batch_size)\n"
      ],
      "metadata": {
        "id": "Mt41kyhrIlMe"
      },
      "execution_count": null,
      "outputs": []
    },
    {
      "cell_type": "code",
      "source": [
        "'''\n",
        "The encoder and decoder classes take in arguments like \n",
        "input size\n",
        "embedding size\n",
        "hiddensize\n",
        "numlayers\n",
        "dropout\n",
        "bidirectional\n",
        "type of cell\n",
        "\n",
        "all of these are hyperparameters as well tuned using wandb sweeps\n",
        "'''\n",
        "import torch\n",
        "import torch.nn as nn\n",
        "import sys\n",
        "import torch.nn.functional as F\n",
        "\n",
        "class Encoder(nn.Module):\n",
        "    def __init__(\n",
        "        self,\n",
        "        inputSize: int,\n",
        "        embedSize: int,\n",
        "        hiddenSize: int,\n",
        "        numLayers: int,\n",
        "        dropout: float,\n",
        "        bidirectional: bool,\n",
        "        typ: str\n",
        "    ):\n",
        "        super().__init__()\n",
        "        self.hiddenSize = hiddenSize\n",
        "        self.inputSize = inputSize\n",
        "        self.numLayers = numLayers\n",
        "        self.typ = typ.upper()\n",
        "        self.bidirectional = bidirectional\n",
        "\n",
        "        self.embedding = nn.Embedding(inputSize, embedSize)\n",
        "        self.seq = self._get_sequence(typ, embedSize, hiddenSize, dropout, numLayers, bidirectional)\n",
        "\n",
        "    def forward(self, input, hidden):\n",
        "        embed = self.embedding(input)\n",
        "        output = embed\n",
        "        output, hidden = self.seq(output, hidden)\n",
        "        return output, hidden\n",
        "\n",
        "    def initHidden(self, batch_size: int, device: torch.device):\n",
        "        if self.typ == \"LSTM\":\n",
        "            return (\n",
        "                torch.randn(\n",
        "                    (1 + int(self.bidirectional)) * self.numLayers,\n",
        "                    batch_size,\n",
        "                    self.hiddenSize,\n",
        "                    device=device,\n",
        "                ),\n",
        "                torch.randn(\n",
        "                    (1 + int(self.bidirectional)) * self.numLayers,\n",
        "                    batch_size,\n",
        "                    self.hiddenSize,\n",
        "                    device=device,\n",
        "                ),\n",
        "            )\n",
        "        return torch.randn(\n",
        "            (1 + int(self.bidirectional)) * self.numLayers,\n",
        "            batch_size,\n",
        "            self.hiddenSize,\n",
        "            device=device,\n",
        "        )\n",
        "\n",
        "    def _get_sequence(\n",
        "        self,\n",
        "        typ: str,\n",
        "        embedSize: int,\n",
        "        hiddenSize: int,\n",
        "        dropout: float,\n",
        "        numLayers: int,\n",
        "        bidirectional: bool,\n",
        "    ):\n",
        "        typ = typ.upper()\n",
        "        if typ == \"GRU\":\n",
        "            return nn.GRU(\n",
        "                embedSize,\n",
        "                hiddenSize,\n",
        "                dropout=dropout,\n",
        "                num_layers=numLayers,\n",
        "                bidirectional=bidirectional,\n",
        "                batch_first=True,\n",
        "            )\n",
        "        elif typ == \"LSTM\":\n",
        "            return nn.LSTM(\n",
        "                embedSize,\n",
        "                hiddenSize,\n",
        "                dropout=dropout,\n",
        "                num_layers=numLayers,\n",
        "                bidirectional=bidirectional,\n",
        "                batch_first=True,\n",
        "            )\n",
        "        elif typ == \"RNN\":\n",
        "            return nn.RNN(\n",
        "                embedSize,\n",
        "                hiddenSize,\n",
        "                dropout=dropout,\n",
        "                num_layers=numLayers,\n",
        "                bidirectional=bidirectional,\n",
        "                batch_first=True,\n",
        "            )\n",
        "        else:\n",
        "            raise NotImplementedError\n",
        "\n",
        "\n",
        "class Decoder(nn.Module):\n",
        "    def __init__(\n",
        "        self,\n",
        "        outputSize: int,\n",
        "        embedSize: int,\n",
        "        hiddenSize: int,\n",
        "        numLayers: int,\n",
        "        dropout: float,\n",
        "        bidirectional: bool,\n",
        "        typ: str,\n",
        "    ):\n",
        "        super().__init__()\n",
        "        self.hiddenSize = hiddenSize\n",
        "        self.outputSize = outputSize\n",
        "        self.numLayers = numLayers\n",
        "        self.typ = typ.upper()\n",
        "        self.bidirectional = bidirectional\n",
        "\n",
        "        self.embedding = nn.Embedding(outputSize, embedSize)\n",
        "        self.seq = self._get_sequence(typ, embedSize, hiddenSize, dropout, numLayers, bidirectional)\n",
        "        self.out = nn.Linear((1 + int(self.bidirectional)) * self.hiddenSize, self.outputSize)\n",
        "        self.softmax = nn.LogSoftmax(dim=-1)\n",
        "\n",
        "    def forward(self, input: torch.Tensor, hidden: torch.Tensor):\n",
        "        inp = input.unsqueeze(1)\n",
        "        embed = self.embedding(inp)\n",
        "        output = embed\n",
        "        output, hidden = self.seq(output, hidden)\n",
        "        output = self.softmax(F.relu(self.out(output)))\n",
        "        return output, hidden\n",
        "\n",
        "    def initHidden(self, batch_size: int, device: torch.device):\n",
        "        if self.typ == \"LSTM\":\n",
        "            return (\n",
        "                torch.randn(\n",
        "                    (1 + int(self.bidirectional)) * self.numLayers,\n",
        "                    batch_size,\n",
        "                    self.hiddenSize,\n",
        "                    device=device,\n",
        "                ),\n",
        "                torch.randn(\n",
        "                    (1 + int(self.bidirectional)) * self.numLayers,\n",
        "                    batch_size,\n",
        "                    self.hiddenSize,\n",
        "                    device=device,\n",
        "                ),\n",
        "            )\n",
        "        return torch.randn(\n",
        "            (1 + int(self.bidirectional)) * self.numLayers,\n",
        "            batch_size,\n",
        "            self.hiddenSize,\n",
        "            device=device,\n",
        "        )\n",
        "\n",
        "    def _get_sequence(\n",
        "        self,\n",
        "        typ: str,\n",
        "        embedSize: int,\n",
        "        hiddenSize: int,\n",
        "        dropout: float,\n",
        "        numLayers: int,\n",
        "        bidirectional: bool,\n",
        "    ):\n",
        "        typ = typ.upper()\n",
        "        if typ == \"GRU\":\n",
        "            return nn.GRU(\n",
        "                embedSize,\n",
        "                hiddenSize,\n",
        "                dropout=dropout,\n",
        "                num_layers=numLayers,\n",
        "                bidirectional=bidirectional,\n",
        "                batch_first=True,\n",
        "            )\n",
        "        elif typ == \"LSTM\":\n",
        "            return nn.LSTM(\n",
        "                embedSize,\n",
        "                hiddenSize,\n",
        "                dropout=dropout,\n",
        "                num_layers=numLayers,\n",
        "                bidirectional=bidirectional,\n",
        "                batch_first=True,\n",
        "            )\n",
        "        elif typ == \"RNN\":\n",
        "            return nn.RNN(\n",
        "                embedSize,\n",
        "                hiddenSize,\n",
        "                dropout=dropout,\n",
        "                num_layers=numLayers,\n",
        "                bidirectional=bidirectional,\n",
        "                batch_first=True,\n",
        "            )\n",
        "        else:\n",
        "            raise Wrongcelltype"
      ],
      "metadata": {
        "id": "YOeH0t-DdQGg",
        "colab": {
          "base_uri": "https://localhost:8080/",
          "height": 126
        },
        "outputId": "b684c72f-d3cd-4ab9-d775-6daac16c1242"
      },
      "execution_count": 8,
      "outputs": [
        {
          "output_type": "execute_result",
          "data": {
            "text/plain": [
              "'class Encoder(nn.Module):\\n    def __init__(\\n        self,\\n        inputSize: int,\\n        embedSize: int,\\n        hiddenSize: int,\\n        numLayers: int,\\n        dropout: float,\\n        bidirectional: bool,\\n        typ: str\\n    ):\\n        super().__init__()\\n        self.hiddenSize = hiddenSize\\n        self.inputSize = inputSize\\n        self.numLayers = numLayers\\n        self.typ = typ.upper()\\n        self.bidirectional = bidirectional\\n\\n        self.embedding = nn.Embedding(inputSize, embedSize)\\n        self.seq = self._get_sequence(typ, embedSize, hiddenSize, dropout, numLayers, bidirectional)\\n\\n    def forward(self, input, hidden):\\n        embed = self.embedding(input)\\n        output = embed\\n        output, hidden = self.seq(output, hidden)\\n        return output, hidden\\n\\n    def initHidden(self, batch_size: int, device: torch.device):\\n        if self.typ == \"LSTM\":\\n            return (\\n                torch.randn(\\n                    (1 + int(self.bidirectional)) * self.numLayers,\\n                    batch_size,\\n                    self.hiddenSize,\\n                    device=device,\\n                ),\\n                torch.randn(\\n                    (1 + int(self.bidirectional)) * self.numLayers,\\n                    batch_size,\\n                    self.hiddenSize,\\n                    device=device,\\n                ),\\n            )\\n        return torch.randn(\\n            (1 + int(self.bidirectional)) * self.numLayers,\\n            batch_size,\\n            self.hiddenSize,\\n            device=device,\\n        )\\n\\n    def _get_sequence(\\n        self,\\n        typ: str,\\n        embedSize: int,\\n        hiddenSize: int,\\n        dropout: float,\\n        numLayers: int,\\n        bidirectional: bool,\\n    ):\\n        typ = typ.upper()\\n        if typ == \"GRU\":\\n            return nn.GRU(\\n                embedSize,\\n                hiddenSize,\\n                dropout=dropout,\\n                num_layers=numLayers,\\n                bidirectional=bidirectional,\\n                batch_first=True,\\n            )\\n        elif typ == \"LSTM\":\\n            return nn.LSTM(\\n                embedSize,\\n                hiddenSize,\\n                dropout=dropout,\\n                num_layers=numLayers,\\n                bidirectional=bidirectional,\\n                batch_first=True,\\n            )\\n        elif typ == \"RNN\":\\n            return nn.RNN(\\n                embedSize,\\n                hiddenSize,\\n                dropout=dropout,\\n                num_layers=numLayers,\\n                bidirectional=bidirectional,\\n                batch_first=True,\\n            )\\n        else:\\n            raise NotImplementedError\\n\\n\\nclass Decoder(nn.Module):\\n    def __init__(\\n        self,\\n        outputSize: int,\\n        embedSize: int,\\n        hiddenSize: int,\\n        numLayers: int,\\n        dropout: float,\\n        bidirectional: bool,\\n        typ: str,\\n    ):\\n        super().__init__()\\n        self.hiddenSize = hiddenSize\\n        self.outputSize = outputSize\\n        self.numLayers = numLayers\\n        self.typ = typ.upper()\\n        self.bidirectional = bidirectional\\n\\n        self.embedding = nn.Embedding(outputSize, embedSize)\\n        self.seq = self._get_sequence(typ, embedSize, hiddenSize, dropout, numLayers, bidirectional)\\n        self.out = nn.Linear((1 + int(self.bidirectional)) * self.hiddenSize, self.outputSize)\\n        self.softmax = nn.LogSoftmax(dim=-1)\\n\\n    def forward(self, input: torch.Tensor, hidden: torch.Tensor):\\n        inp = input.unsqueeze(1)\\n        embed = self.embedding(inp)\\n        output = embed\\n        output, hidden = self.seq(output, hidden)\\n        output = self.softmax(F.relu(self.out(output)))\\n        return output, hidden\\n\\n    def initHidden(self, batch_size: int, device: torch.device):\\n        if self.typ == \"LSTM\":\\n            return (\\n                torch.randn(\\n                    (1 + int(self.bidirectional)) * self.numLayers,\\n                    batch_size,\\n                    self.hiddenSize,\\n                    device=device,\\n                ),\\n                torch.randn(\\n                    (1 + int(self.bidirectional)) * self.numLayers,\\n                    batch_size,\\n                    self.hiddenSize,\\n                    device=device,\\n                ),\\n            )\\n        return torch.randn(\\n            (1 + int(self.bidirectional)) * self.numLayers,\\n            batch_size,\\n            self.hiddenSize,\\n            device=device,\\n        )\\n\\n    def _get_sequence(\\n        self,\\n        typ: str,\\n        embedSize: int,\\n        hiddenSize: int,\\n        dropout: float,\\n        numLayers: int,\\n        bidirectional: bool,\\n    ):\\n        typ = typ.upper()\\n        if typ == \"GRU\":\\n            return nn.GRU(\\n                embedSize,\\n                hiddenSize,\\n                dropout=dropout,\\n                num_layers=numLayers,\\n                bidirectional=bidirectional,\\n                batch_first=True,\\n            )\\n        elif typ == \"LSTM\":\\n            return nn.LSTM(\\n                embedSize,\\n                hiddenSize,\\n                dropout=dropout,\\n                num_layers=numLayers,\\n                bidirectional=bidirectional,\\n                batch_first=True,\\n            )\\n        elif typ == \"RNN\":\\n            return nn.RNN(\\n                embedSize,\\n                hiddenSize,\\n                dropout=dropout,\\n                num_layers=numLayers,\\n                bidirectional=bidirectional,\\n                batch_first=True,\\n            )\\n        else:\\n            raise NotImplementedError  '"
            ],
            "application/vnd.google.colaboratory.intrinsic+json": {
              "type": "string"
            }
          },
          "metadata": {},
          "execution_count": 8
        }
      ]
    },
    {
      "cell_type": "code",
      "source": [
        "teacherForcingRatio=0.0\n",
        "language='hin'\n",
        "batch_size=32\n",
        "teacherForcingRatio = teacherForcingRatio\n",
        "\n",
        "\n",
        "trainData = dataset(path, lang=language, typ=\"train\")\n",
        "valData = dataset(path, lang=language, typ=\"val\")\n",
        "testData = dataset(path, lang=language, typ=\"test\")\n",
        "\n",
        "trainLoader = DataLoader(trainData, batch_size=batch_size)\n",
        "valLoader = DataLoader(valData, batch_size=batch_size)\n",
        "testLoader = DataLoader(testData, batch_size=batch_size)\n",
        "\n",
        "sowToken = trainData.x2TDict[\"\\t\"]\n",
        "eowToken = trainData.x2TDict[\"\\n\"]\n",
        "\n",
        "device = torch.device(\"cuda\" if torch.cuda.is_available() else \"cpu\")\n",
        "\n",
        "print(f\"Training is happening on: {device}\")"
      ],
      "metadata": {
        "id": "qYu6ZNc6KcJ_"
      },
      "execution_count": null,
      "outputs": []
    },
    {
      "cell_type": "code",
      "execution_count": 10,
      "metadata": {
        "colab": {
          "base_uri": "https://localhost:8080/"
        },
        "id": "lPL7NrNQ7hDF",
        "outputId": "92d286a5-f10e-4604-8dc9-139d5f6067ad"
      },
      "outputs": [
        {
          "output_type": "stream",
          "name": "stdout",
          "text": [
            "Training is happening on: cuda\n"
          ]
        }
      ],
      "source": [
        " \n",
        "'''\n",
        "The loss_calculation function integrates the teacher forcing functionality, if teacher forcing isnt applicable it starts feeding its previous output as the new input\n",
        "for the model. \n",
        "returns the loss and word, char accuracies respectively\n",
        "'''\n",
        "def calc_loss(input_tensor: torch.Tensor, target_tensor: torch.Tensor,\n",
        "                   encoder: Encoder, decoder: Decoder,\n",
        "                   enc_optimizer: torch.optim, dec_optimizer: torch.optim,\n",
        "                   criterion: nn.Module, max_len: int, use_attention: bool):\n",
        "\n",
        "    enc_hidden = encoder.init_hidden(batch_size, device)\n",
        "\n",
        "    enc_optimizer.zero_grad()\n",
        "    dec_optimizer.zero_grad()\n",
        "\n",
        "    input_len = input_tensor.size(1)\n",
        "    target_len = target_tensor.size(1)\n",
        "\n",
        "    enc_outputs = torch.zeros(max_len, encoder.hidden_size, device=device)\n",
        "\n",
        "    loss = 0\n",
        "\n",
        "    for ei in range(input_len):\n",
        "        enc_output, enc_hidden = encoder(input_tensor, enc_hidden)\n",
        "\n",
        "    dec_hidden = enc_hidden\n",
        "    dec_input = target_tensor[:, 0]\n",
        "\n",
        "    use_teacher_forcing = True if random.random() < teacher_forcing_ratio else False\n",
        "\n",
        "    outputs = torch.zeros(batch_size, target_len, train_data.y_len).to(device)\n",
        "\n",
        "    if use_teacher_forcing:\n",
        "        if use_attention:\n",
        "            for di in range(1, target_len):\n",
        "                dec_output, dec_hidden, decoder_attention = decoder(dec_input, dec_hidden, enc_outputs)\n",
        "\n",
        "                dec_input = target_tensor[:, di].unsqueeze(0)\n",
        "        else:\n",
        "            for di in range(1, target_len):\n",
        "                dec_output, dec_hidden = decoder(dec_input, dec_hidden)\n",
        "\n",
        "                outputs[:, di] = dec_output.squeeze(1)\n",
        "\n",
        "                dec_input = target_tensor[:, di]\n",
        "    else:\n",
        "        if use_attention:\n",
        "            for di in range(target_len):\n",
        "                dec_output, dec_hidden = decoder(dec_input, dec_hidden, enc_outputs)\n",
        "\n",
        "                outputs[:, di] = dec_output.squeeze(1)\n",
        "\n",
        "                top = dec_output.argmax(-1)\n",
        "                dec_input = top.squeeze(1).detach()\n",
        "\n",
        "                if dec_input.item() == eow_token:\n",
        "                    break\n",
        "        else:\n",
        "            for di in range(target_len):\n",
        "                dec_output, dec_hidden = decoder(dec_input, dec_hidden)\n",
        "\n",
        "                outputs[:, di] = dec_output.squeeze(1)\n",
        "\n",
        "                top = dec_output.argmax(-1)\n",
        "                dec_input = top.squeeze(1).detach()\n",
        "\n",
        "    outputs = outputs.permute(0, 2, 1)\n",
        "\n",
        "    loss += criterion(outputs, target_tensor)\n",
        "    loss.backward()\n",
        "\n",
        "    enc_optimizer.step()\n",
        "    dec_optimizer.step()\n",
        "\n",
        "    accuracy_word = calculate_word_accuracy(outputs, target_tensor)\n",
        "    accuracy_char = calculate_char_accuracy(outputs, target_tensor)\n",
        "\n",
        "    return loss.item(), accuracy_word, accuracy_char\n"
      ]
    },
    {
      "cell_type": "code",
      "source": [
        "'''\n",
        "The function evaluate takes the encoder decoder and target prediction pair is arguments\n",
        "it returns the char and word accuracies for the corresponding pairs of target, preds\n",
        "'''\n",
        "\n",
        "def evaluate(encoder: Encoder, decoder: Decoder, pair: list, criterion: nn.Module):\n",
        "    with torch.no_grad():\n",
        "        input_tensor = pair[0].to(device)\n",
        "        target_tensor = pair[1].to(device)\n",
        "\n",
        "        input_len = input_tensor.size(1)\n",
        "        target_len = target_tensor.size(1)\n",
        "\n",
        "        enc_hidden = encoder.init_hidden(batch_size, device)\n",
        "\n",
        "        outputs = torch.zeros(batch_size, target_len, train_data.y_len).to(device)\n",
        "\n",
        "        loss = 0\n",
        "        for ei in range(input_len):\n",
        "            enc_output, enc_hidden = encoder(input_tensor, enc_hidden)\n",
        "\n",
        "        dec_hidden = enc_hidden\n",
        "        dec_input = target_tensor[:, 0]\n",
        "\n",
        "        for di in range(target_len):\n",
        "            dec_output, dec_hidden = decoder(dec_input, dec_hidden)\n",
        "\n",
        "            outputs[:, di] = dec_output.squeeze(1)\n",
        "\n",
        "            top = dec_output.argmax(-1)\n",
        "            dec_input = top.squeeze(1).detach()\n",
        "\n",
        "        outputs = outputs.permute(0, 2, 1)\n",
        "\n",
        "        loss += criterion(outputs, target_tensor)\n",
        "\n",
        "        accuracy_word = calculate_word_accuracy(outputs, target_tensor)\n",
        "        accuracy_char = calculate_char_accuracy(outputs, target_tensor)\n",
        "\n",
        "    return loss.item(), accuracy_word, accuracy_char\n"
      ],
      "metadata": {
        "id": "kEbcDJXCN60g"
      },
      "execution_count": null,
      "outputs": []
    },
    {
      "cell_type": "code",
      "source": [
        "\n",
        "sweep_config = {\n",
        "    'method': 'bayes', \n",
        "    'metric': {\n",
        "      'name': 'Validation_char_Accuracy',\n",
        "      'goal': 'maximize'   \n",
        "    },\n",
        "    'parameters': {\n",
        "        'inp_embed_size': {\n",
        "            'values': [32,64,256]\n",
        "        },\n",
        "        'num_enc_layers' : {\n",
        "           'values' : [1,2,3,4]\n",
        "        },\n",
        "        'num_dec_layers' : {\n",
        "           'values' : [1,2,3,4]\n",
        "        },\n",
        "        'hidden_size': {\n",
        "            'values': [256,512,1024]\n",
        "        },\n",
        "        'cell_type': {\n",
        "            'values': ['RNN','LSTM','GRU'],\n",
        "        },\n",
        "        'bidirectional': {\n",
        "            'values': [True,False]\n",
        "        },\n",
        "        'dropout': {\n",
        "            'values': [0.25,0.3,0.4]\n",
        "        }\n",
        "    }\n",
        "}"
      ],
      "metadata": {
        "id": "rOKDyBbOKXXa"
      },
      "execution_count": 12,
      "outputs": []
    },
    {
      "cell_type": "code",
      "source": [
        "def train(dropout=0.25,bidirectional=False,cell_type='GRU',hidden_size=512,num_dec_layers=1,num_enc_layers=1,inp_embed_size=256,useAttn=False ,print_every=1, learning_rate=0.001, visualize=False):\n",
        "    \n",
        "    config_defaults={\n",
        "      'inp_embed_size': 256,\n",
        "      'num_enc_layers' : 1,\n",
        "      'num_dec_layers' : 1,\n",
        "      'hidden_size': 512,\n",
        "      'cell_type': 'GRU',\n",
        "      'bidirectional': False,\n",
        "      'dropout': 0.25\n",
        "    }\n",
        "    \n",
        "    wandb.init(config=config_defaults)\n",
        "    config = wandb.config\n",
        "\n",
        "    hiddenSize = config.hidden_size\n",
        "    epochs = 7\n",
        "    backbone = config.cell_type\n",
        "    embedSize = config.inp_embed_size\n",
        "    num_enc_layers= config.num_enc_layers\n",
        "    num_dec_layers= config.num_dec_layers\n",
        "    dropout= config.dropout\n",
        "    bidirectional= config.bidirectional\n",
        "\n",
        "    path = \"/content/drive/MyDrive/aksharantar_sampled/\"\n",
        "    teacherForcingRatio=0.0\n",
        "    language='hin'\n",
        "    batch_size=32 \n",
        "    teacherForcingRatio = 0.0\n",
        "\n",
        "    trainData = dataset(path, lang=language, typ=\"train\")\n",
        "    valData = dataset(path, lang=language, typ=\"val\")\n",
        "    testData = dataset(path, lang=language, typ=\"test\")\n",
        "\n",
        "    trainLoader = DataLoader(trainData, batch_size=batch_size)\n",
        "    valLoader = DataLoader(valData, batch_size=batch_size)\n",
        "    testLoader = DataLoader(testData, batch_size=batch_size)\n",
        "\n",
        "    sowToken = trainData.x2TDict[\"\\t\"] #hardcoded\n",
        "    eowToken = trainData.x2TDict[\"\\n\"] #hardcoded\n",
        "\n",
        "    device = torch.device(\"cuda\" if torch.cuda.is_available() else \"cpu\")\n",
        "    \n",
        "    inputSize = trainData.xLen\n",
        "    outputSize = trainData.yLen\n",
        "\n",
        "    encoder = Encoder(inputSize, embedSize, hiddenSize, num_enc_layers, dropout, bidirectional, backbone).to(device)\n",
        "    decoder = Decoder(outputSize, embedSize, hiddenSize, num_enc_layers, dropout, bidirectional, backbone).to(device)\n",
        "    print_loss_total = 0  # Reset every print_every\n",
        "    \n",
        "\n",
        "    encOptim = Adam(encoder.parameters(), lr=learning_rate)\n",
        "    decOptim = Adam(decoder.parameters(), lr=learning_rate) \n",
        "\n",
        "    criterion = nn.NLLLoss()\n",
        "\n",
        "    for epoch in range(1, epochs + 1):\n",
        "        loop_obj = tqdm(trainLoader)\n",
        "        epochTrainAccW, epochTrainAccC,epochTrainLoss = [], [], []\n",
        "        for training_pair in loop_obj:\n",
        "            inputTensor = training_pair[0].to(device)\n",
        "            targetTensor = training_pair[1].to(device)\n",
        "\n",
        "            loss, accW, accC = calc_loss(inputTensor, targetTensor, encoder, decoder, encOptim, decOptim, criterion, inputSize, useAttn)\n",
        "            \n",
        "\n",
        "            loop_obj.set_postfix({f\"Loss\": f\"{loss:0.3f}\"})\n",
        "            loop_obj.set_description(f\"Epoch {epoch}\")\n",
        "            \n",
        "            epochTrainLoss.append(loss)\n",
        "            epochTrainAccW.append(accW)\n",
        "            epochTrainAccC.append(accC)\n",
        "\n",
        "        print(f\"Training Loss is {sum(epochTrainLoss)/len(epochTrainLoss)}\")        \n",
        "        print(f\"Training Word Accuracy is {sum(epochTrainAccW)/len(epochTrainAccW)}\")\n",
        "        print(f\"Training Character Accuracy is {sum(epochTrainAccC)/len(epochTrainAccC)}\")\n",
        "\n",
        "        epochValLoss, epochValAccW, epochValAccC = [],  [], []\n",
        "\n",
        "        if epoch % print_every == 0:\n",
        "            with torch.no_grad():\n",
        "                print(\"Starting Validation\")\n",
        "\n",
        "                for pair in tqdm(valLoader):\n",
        "                    loss, accW, accC = evaluate(encoder, decoder, pair, criterion)\n",
        "\n",
        "                    epochValLoss.append(loss)\n",
        "                    epochValAccW.append(accW)\n",
        "                    epochValAccC.append(accC)\n",
        "                name_run=\"run_attn\" + '_' + str(config.cell_type) + '_' +str(config.hidden_size) + '_' + str(config.inp_embed_size)\n",
        "                wandb.run.name = name_run\n",
        "                wandb_log=True\n",
        "                log_dict = {\"Train_loss\": np.min(epochTrainLoss), \"Validation_loss\": np.min(epochValLoss), \"Train_char_Accuracy\": np.max(epochTrainAccC), \"Validation_char_Accuracy\":np.max(epochValAccC)}\n",
        "                wandb.log(log_dict)\n",
        "                print(f\"Validation Loss is {sum(epochValLoss)/len(epochValLoss)}\")        \n",
        "                print(f\"Validation Word Accuracy is {sum(epochValAccW)/len(epochValAccW)}\")\n",
        "                print(f\"Validation Character Accuracy is {sum(epochValAccC)/len(epochValAccC)}\")\n",
        "    wandb.run.save()\n",
        "    wandb.run.finish()\n",
        "    return encoder, decoder"
      ],
      "metadata": {
        "id": "GBBuYeUJJkRF"
      },
      "execution_count": 15,
      "outputs": []
    },
    {
      "cell_type": "code",
      "source": [
        "def do_sweep(project_name,entity_name,dropout=0.25,bidirectional=False,cell_type='GRU',hidden_size=512,num_dec_layers=1,num_enc_layers=1,inp_embed_size=256,useAttn=False ):\n",
        "  sweep_id=wandb.sweep(sweep_config, entity=entity_name, project=project_name)\n",
        "  wandb.agent(sweep_id, train)"
      ],
      "metadata": {
        "id": "d4kS61P4VdQJ"
      },
      "execution_count": null,
      "outputs": []
    },
    {
      "cell_type": "code",
      "source": [
        "encoder, decoder= train()"
      ],
      "metadata": {
        "colab": {
          "base_uri": "https://localhost:8080/",
          "height": 1000
        },
        "id": "tS-6yMQVHVXA",
        "outputId": "b4baeeab-f287-4f7f-965e-c077cd2a92f3"
      },
      "execution_count": 16,
      "outputs": [
        {
          "output_type": "stream",
          "name": "stderr",
          "text": [
            "\u001b[34m\u001b[1mwandb\u001b[0m: Currently logged in as: \u001b[33mna20b064\u001b[0m (\u001b[33msiddharth-s\u001b[0m). Use \u001b[1m`wandb login --relogin`\u001b[0m to force relogin\n"
          ]
        },
        {
          "output_type": "display_data",
          "data": {
            "text/plain": [
              "<IPython.core.display.HTML object>"
            ],
            "text/html": [
              "Tracking run with wandb version 0.15.3"
            ]
          },
          "metadata": {}
        },
        {
          "output_type": "display_data",
          "data": {
            "text/plain": [
              "<IPython.core.display.HTML object>"
            ],
            "text/html": [
              "Run data is saved locally in <code>/content/wandb/run-20230519_094459-pkimkc4p</code>"
            ]
          },
          "metadata": {}
        },
        {
          "output_type": "display_data",
          "data": {
            "text/plain": [
              "<IPython.core.display.HTML object>"
            ],
            "text/html": [
              "Syncing run <strong><a href='https://wandb.ai/siddharth-s/uncategorized/runs/pkimkc4p' target=\"_blank\">frosty-pyramid-35</a></strong> to <a href='https://wandb.ai/siddharth-s/uncategorized' target=\"_blank\">Weights & Biases</a> (<a href='https://wandb.me/run' target=\"_blank\">docs</a>)<br/>"
            ]
          },
          "metadata": {}
        },
        {
          "output_type": "display_data",
          "data": {
            "text/plain": [
              "<IPython.core.display.HTML object>"
            ],
            "text/html": [
              " View project at <a href='https://wandb.ai/siddharth-s/uncategorized' target=\"_blank\">https://wandb.ai/siddharth-s/uncategorized</a>"
            ]
          },
          "metadata": {}
        },
        {
          "output_type": "display_data",
          "data": {
            "text/plain": [
              "<IPython.core.display.HTML object>"
            ],
            "text/html": [
              " View run at <a href='https://wandb.ai/siddharth-s/uncategorized/runs/pkimkc4p' target=\"_blank\">https://wandb.ai/siddharth-s/uncategorized/runs/pkimkc4p</a>"
            ]
          },
          "metadata": {}
        },
        {
          "output_type": "stream",
          "name": "stderr",
          "text": [
            "/usr/local/lib/python3.10/dist-packages/torch/nn/modules/rnn.py:71: UserWarning: dropout option adds dropout after all but last recurrent layer, so non-zero dropout expects num_layers greater than 1, but got dropout=0.3 and num_layers=1\n",
            "  warnings.warn(\"dropout option adds dropout after all but last \"\n",
            "Epoch 1: 100%|██████████| 1600/1600 [03:41<00:00,  7.23it/s, Loss=0.981]\n"
          ]
        },
        {
          "output_type": "stream",
          "name": "stdout",
          "text": [
            "Training Loss is 1.309193760752678\n",
            "Training Word Accuracy is 0.0\n",
            "Training Character Accuracy is 0.21380256204044099\n",
            "Starting Validation\n"
          ]
        },
        {
          "output_type": "stream",
          "name": "stderr",
          "text": [
            "100%|██████████| 128/128 [00:04<00:00, 27.59it/s]\n"
          ]
        },
        {
          "output_type": "stream",
          "name": "stdout",
          "text": [
            "Validation Loss is 0.8467504139989614\n",
            "Validation Word Accuracy is 0.0\n",
            "Validation Character Accuracy is 0.24663947610294112\n"
          ]
        },
        {
          "output_type": "stream",
          "name": "stderr",
          "text": [
            "Epoch 2: 100%|██████████| 1600/1600 [03:29<00:00,  7.64it/s, Loss=0.786]\n"
          ]
        },
        {
          "output_type": "stream",
          "name": "stdout",
          "text": [
            "Training Loss is 0.9128297724947333\n",
            "Training Word Accuracy is 0.0\n",
            "Training Character Accuracy is 0.2377145565257359\n",
            "Starting Validation\n"
          ]
        },
        {
          "output_type": "stream",
          "name": "stderr",
          "text": [
            "100%|██████████| 128/128 [00:04<00:00, 27.11it/s]\n"
          ]
        },
        {
          "output_type": "stream",
          "name": "stdout",
          "text": [
            "Validation Loss is 0.7324651130475104\n",
            "Validation Word Accuracy is 0.0\n",
            "Validation Character Accuracy is 0.2550982306985295\n"
          ]
        },
        {
          "output_type": "stream",
          "name": "stderr",
          "text": [
            "Epoch 3: 100%|██████████| 1600/1600 [03:42<00:00,  7.20it/s, Loss=0.716]\n"
          ]
        },
        {
          "output_type": "stream",
          "name": "stdout",
          "text": [
            "Training Loss is 0.8294004320725799\n",
            "Training Word Accuracy is 0.0\n",
            "Training Character Accuracy is 0.24476160386029427\n",
            "Starting Validation\n"
          ]
        },
        {
          "output_type": "stream",
          "name": "stderr",
          "text": [
            "100%|██████████| 128/128 [00:04<00:00, 27.63it/s]\n"
          ]
        },
        {
          "output_type": "stream",
          "name": "stdout",
          "text": [
            "Validation Loss is 0.6958444127812982\n",
            "Validation Word Accuracy is 0.0\n",
            "Validation Character Accuracy is 0.25879983340992674\n"
          ]
        },
        {
          "output_type": "stream",
          "name": "stderr",
          "text": [
            "Epoch 4: 100%|██████████| 1600/1600 [03:29<00:00,  7.65it/s, Loss=0.679]\n"
          ]
        },
        {
          "output_type": "stream",
          "name": "stdout",
          "text": [
            "Training Loss is 0.7795491203293204\n",
            "Training Word Accuracy is 0.0\n",
            "Training Character Accuracy is 0.24941233915441235\n",
            "Starting Validation\n"
          ]
        },
        {
          "output_type": "stream",
          "name": "stderr",
          "text": [
            "100%|██████████| 128/128 [00:04<00:00, 27.29it/s]\n"
          ]
        },
        {
          "output_type": "stream",
          "name": "stdout",
          "text": [
            "Validation Loss is 0.6734459288418293\n",
            "Validation Word Accuracy is 0.0\n",
            "Validation Character Accuracy is 0.2606524299172795\n"
          ]
        },
        {
          "output_type": "stream",
          "name": "stderr",
          "text": [
            "Epoch 5: 100%|██████████| 1600/1600 [03:27<00:00,  7.71it/s, Loss=0.648]\n"
          ]
        },
        {
          "output_type": "stream",
          "name": "stdout",
          "text": [
            "Training Loss is 0.7417900894954801\n",
            "Training Word Accuracy is 0.0\n",
            "Training Character Accuracy is 0.2532306985294118\n",
            "Starting Validation\n"
          ]
        },
        {
          "output_type": "stream",
          "name": "stderr",
          "text": [
            "100%|██████████| 128/128 [00:04<00:00, 26.97it/s]\n"
          ]
        },
        {
          "output_type": "stream",
          "name": "stdout",
          "text": [
            "Validation Loss is 0.6620476767420769\n",
            "Validation Word Accuracy is 0.0\n",
            "Validation Character Accuracy is 0.26181927849264697\n"
          ]
        },
        {
          "output_type": "stream",
          "name": "stderr",
          "text": [
            "Epoch 6: 100%|██████████| 1600/1600 [03:27<00:00,  7.72it/s, Loss=0.648]\n"
          ]
        },
        {
          "output_type": "stream",
          "name": "stdout",
          "text": [
            "Training Loss is 0.7112901711836457\n",
            "Training Word Accuracy is 0.0\n",
            "Training Character Accuracy is 0.2564151539522065\n",
            "Starting Validation\n"
          ]
        },
        {
          "output_type": "stream",
          "name": "stderr",
          "text": [
            "100%|██████████| 128/128 [00:04<00:00, 27.63it/s]\n"
          ]
        },
        {
          "output_type": "stream",
          "name": "stdout",
          "text": [
            "Validation Loss is 0.6566264186985791\n",
            "Validation Word Accuracy is 0.0\n",
            "Validation Character Accuracy is 0.262960994944853\n"
          ]
        },
        {
          "output_type": "stream",
          "name": "stderr",
          "text": [
            "Epoch 7: 100%|██████████| 1600/1600 [03:32<00:00,  7.55it/s, Loss=0.427]\n"
          ]
        },
        {
          "output_type": "stream",
          "name": "stdout",
          "text": [
            "Training Loss is 0.5153965140134096\n",
            "Training Word Accuracy is 0.12873046875\n",
            "Training Character Accuracy is 0.2722814223345588\n",
            "Starting Validation\n"
          ]
        },
        {
          "output_type": "stream",
          "name": "stderr",
          "text": [
            "100%|██████████| 128/128 [00:04<00:00, 27.58it/s]\n",
            "\u001b[34m\u001b[1mwandb\u001b[0m: \u001b[33mWARNING\u001b[0m Calling wandb.run.save without any arguments is deprecated.Changes to attributes are automatically persisted.\n"
          ]
        },
        {
          "output_type": "stream",
          "name": "stdout",
          "text": [
            "Validation Loss is 0.46606109640561044\n",
            "Validation Word Accuracy is 0.158935546875\n",
            "Validation Character Accuracy is 0.2777063706341911\n"
          ]
        },
        {
          "output_type": "display_data",
          "data": {
            "text/plain": [
              "<IPython.core.display.HTML object>"
            ],
            "text/html": [
              "Waiting for W&B process to finish... <strong style=\"color:green\">(success).</strong>"
            ]
          },
          "metadata": {}
        },
        {
          "output_type": "display_data",
          "data": {
            "text/plain": [
              "<IPython.core.display.HTML object>"
            ],
            "text/html": [
              "<style>\n",
              "    table.wandb td:nth-child(1) { padding: 0 10px; text-align: left ; width: auto;} td:nth-child(2) {text-align: left ; width: 100%}\n",
              "    .wandb-row { display: flex; flex-direction: row; flex-wrap: wrap; justify-content: flex-start; width: 100% }\n",
              "    .wandb-col { display: flex; flex-direction: column; flex-basis: 100%; flex: 1; padding: 10px; }\n",
              "    </style>\n",
              "<div class=\"wandb-row\"><div class=\"wandb-col\"><h3>Run history:</h3><br/><table class=\"wandb\"><tr><td>Train_char_Accuracy</td><td>▁▃▄▅▅▆█</td></tr><tr><td>Train_loss</td><td>█▆▅▅▄▄▁</td></tr><tr><td>Validation_char_Accuracy</td><td>▁▃▃▄▄▄█</td></tr><tr><td>Validation_loss</td><td>█▆▅▅▅▅▁</td></tr></table><br/></div><div class=\"wandb-col\"><h3>Run summary:</h3><br/><table class=\"wandb\"><tr><td>Train_char_Accuracy</td><td>0.29366</td></tr><tr><td>Train_loss</td><td>0.29305</td></tr><tr><td>Validation_char_Accuracy</td><td>0.29458</td></tr><tr><td>Validation_loss</td><td>0.27808</td></tr></table><br/></div></div>"
            ]
          },
          "metadata": {}
        },
        {
          "output_type": "display_data",
          "data": {
            "text/plain": [
              "<IPython.core.display.HTML object>"
            ],
            "text/html": [
              " View run <strong style=\"color:#cdcd00\">frosty-pyramid-35</strong> at: <a href='https://wandb.ai/siddharth-s/uncategorized/runs/pkimkc4p' target=\"_blank\">https://wandb.ai/siddharth-s/uncategorized/runs/pkimkc4p</a><br/>Synced 5 W&B file(s), 0 media file(s), 0 artifact file(s) and 0 other file(s)"
            ]
          },
          "metadata": {}
        },
        {
          "output_type": "display_data",
          "data": {
            "text/plain": [
              "<IPython.core.display.HTML object>"
            ],
            "text/html": [
              "Find logs at: <code>./wandb/run-20230519_094459-pkimkc4p/logs</code>"
            ]
          },
          "metadata": {}
        }
      ]
    },
    {
      "cell_type": "code",
      "source": [
        "def evaluate_test(encoder: Encoder, decoder: Decoder, criterion: nn.Module):\n",
        "   path = \"/content/drive/MyDrive/aksharantar_sampled/\"\n",
        "   language='hin'\n",
        "   testData = dataset(path, lang=language, typ=\"test\")\n",
        "   testLoader = DataLoader(testData, batch_size=32)\n",
        "   outputlist=[]\n",
        "   AccWlist=[] \n",
        "   AccClist=[]\n",
        "\n",
        "   for pair in tqdm(testLoader):  \n",
        "     with torch.no_grad():\n",
        "        inputTensor = pair[0].to(device)\n",
        "        targetTensor = pair[1].to(device)\n",
        "\n",
        "        inputLen = inputTensor.size(1)\n",
        "        targetLen = targetTensor.size(1)\n",
        "        \n",
        "        encHidden = encoder.initHidden(batch_size, device)\n",
        "        \n",
        "        outputs = torch.zeros(batch_size, targetLen, trainData.yLen).to(device)\n",
        "\n",
        "        loss = 0\n",
        "        for ei in range(inputLen):\n",
        "            encOutput, encHidden = encoder(inputTensor, encHidden)\n",
        "            #encOutputs[ei] += encOutput[0, 0]\n",
        "\n",
        "        decHidden = encHidden\n",
        "        decInput = targetTensor[:, 0]\n",
        "\n",
        "        for di in range(targetLen):\n",
        "            decOutput, decHidden = decoder(decInput, decHidden)\n",
        "\n",
        "            outputs[:, di] = decOutput.squeeze(1)\n",
        "\n",
        "            top= decOutput.argmax(-1)\n",
        "            decInput = top.squeeze(1).detach() \n",
        "\n",
        "        outputs = outputs.permute(0, 2, 1)\n",
        "        \n",
        "        loss += criterion(outputs, targetTensor)\n",
        "        \n",
        "        AccW = wordAccuracy(outputs, targetTensor)\n",
        "        AccC = charAccuracy(outputs, targetTensor)\n",
        "     AccWlist.append(AccW) \n",
        "     AccClist.append(AccC)\n",
        "     outputlist.append(outputs)\n",
        "   return outputlist, AccWlist, AccClist"
      ],
      "metadata": {
        "id": "ApOVG07cY8ap"
      },
      "execution_count": 18,
      "outputs": []
    },
    {
      "cell_type": "code",
      "source": [
        "outputlist, AccWlist, AccClist=evaluate_test(encoder,decoder,nn.NLLLoss())"
      ],
      "metadata": {
        "colab": {
          "base_uri": "https://localhost:8080/"
        },
        "id": "EkAQ8PsMfYWE",
        "outputId": "9cfb5827-ff2e-4f36-dc98-5c46121c90b3"
      },
      "execution_count": 20,
      "outputs": [
        {
          "output_type": "stream",
          "name": "stderr",
          "text": [
            "100%|██████████| 128/128 [00:06<00:00, 19.15it/s]\n"
          ]
        }
      ]
    },
    {
      "cell_type": "code",
      "source": [
        "np.max(AccWlist)"
      ],
      "metadata": {
        "colab": {
          "base_uri": "https://localhost:8080/"
        },
        "id": "iGemYmk_fpip",
        "outputId": "a2dced5f-e086-4a1f-ad89-885028c318cf"
      },
      "execution_count": 24,
      "outputs": [
        {
          "output_type": "execute_result",
          "data": {
            "text/plain": [
              "0.3125"
            ]
          },
          "metadata": {},
          "execution_count": 24
        }
      ]
    },
    {
      "cell_type": "markdown",
      "source": [
        "Attention Module"
      ],
      "metadata": {
        "id": "i4TVs_OPmNf6"
      }
    },
    {
      "cell_type": "code",
      "source": [
        "'''\n",
        "The encoder decoder classes with attention applied\n",
        "the encoder architecture remains same with decoder architecture having attention applied\n",
        "across encoder outputs corresponding to each layer\n",
        "'''\n",
        "\n",
        "\n",
        "class Encoder(nn.Module):\n",
        "    def __init__(self, inputSize, embedSize, hiddenSize, numLayers, dropout, bidirectional, typ):\n",
        "        super().__init__()\n",
        "        self.hiddenSize = hiddenSize\n",
        "        self.inputSize = inputSize\n",
        "        self.numLayers = numLayers\n",
        "        self.typ = typ.upper()\n",
        "        self.bidirectional = bidirectional\n",
        "\n",
        "        self.embedding = nn.Embedding(inputSize, embedSize)\n",
        "\n",
        "        if self.typ == \"GRU\":\n",
        "            self.seq = nn.GRU(embedSize, hiddenSize, dropout=dropout, num_layers=numLayers,\n",
        "                              bidirectional=bidirectional, batch_first=True)\n",
        "        elif self.typ == \"LSTM\":\n",
        "            self.seq = nn.LSTM(embedSize, hiddenSize, dropout=dropout, num_layers=numLayers,\n",
        "                               bidirectional=bidirectional, batch_first=True)\n",
        "        elif self.typ == \"RNN\":\n",
        "            self.seq = nn.RNN(embedSize, hiddenSize, dropout=dropout, num_layers=numLayers,\n",
        "                              bidirectional=bidirectional, batch_first=True)\n",
        "        else:\n",
        "            raise NotImplementedError\n",
        "\n",
        "    def forward(self, input, hidden):\n",
        "        embed = self.embedding(input)\n",
        "        output = embed\n",
        "\n",
        "        output, hidden = self.seq(output, hidden)\n",
        "\n",
        "        return output, hidden\n",
        "\n",
        "    def initHidden(self, batch_size, device):\n",
        "        if self.typ == \"LSTM\":\n",
        "            return (torch.randn((1 + int(self.bidirectional)) * self.numLayers, batch_size, self.hiddenSize,\n",
        "                                device=device), torch.randn((1 + int(self.bidirectional)) * self.numLayers, batch_size,\n",
        "                                                           self.hiddenSize, device=device))\n",
        "\n",
        "        return torch.randn((1 + int(self.bidirectional)) * self.numLayers, batch_size, self.hiddenSize, device=device)\n",
        "\n",
        "\n",
        "class AttentionDecoder(nn.Module):\n",
        "    def __init__(self, outputSize, embedSize, hiddenSize, numLayers, dropout, bidirectional, typ):\n",
        "        super().__init__()\n",
        "        self.hiddenSize = hiddenSize\n",
        "        self.outputSize = outputSize\n",
        "        self.numLayers = numLayers\n",
        "        self.typ = typ.upper()\n",
        "        self.bidirectional = bidirectional\n",
        "\n",
        "        self.embedding = nn.Embedding(outputSize, embedSize)\n",
        "        self.attn = nn.Linear(hiddenSize + embedSize, hiddenSize)\n",
        "        self.attn_combine = nn.Linear(hiddenSize + embedSize, hiddenSize)\n",
        "\n",
        "        if self.typ == \"GRU\":\n",
        "            self.seq = nn.GRU(hiddenSize, hiddenSize, dropout=dropout, num_layers=numLayers,\n",
        "                              bidirectional=bidirectional, batch_first=True)\n",
        "        elif self.typ == \"LSTM\":\n",
        "            self.seq = nn.LSTM(hiddenSize, hiddenSize, dropout=dropout, num_layers=numLayers,\n",
        "                               bidirectional=bidirectional, batch_first=True)\n",
        "        elif self.typ == \"RNN\":\n",
        "            self.seq = nn.RNN(hiddenSize, hiddenSize, dropout=dropout, num_layers=numLayers,\n",
        "                              bidirectional=bidirectional, batch_first=True)\n",
        "        else:\n",
        "            raise NotImplementedError\n",
        "\n",
        "        self.out = nn.Linear((1 + int(self.bidirectional)) * hiddenSize, outputSize)\n",
        "        self.softmax = nn.LogSoftmax(dim=-1)\n",
        "\n",
        "    def forward(self, input, hidden, encoder_outputs):\n",
        "        embed = self.embedding(input)\n",
        "        attn_weights = F.softmax(self.attn(torch.cat((embed, hidden[-1]), dim=1)), dim=1)\n",
        "        attn_applied = torch.bmm(attn_weights.unsqueeze(1), encoder_outputs)\n",
        "\n",
        "        output = torch.cat((embed, attn_applied[:, 0]), dim=1)\n",
        "        output = self.attn_combine(output).unsqueeze(1)\n",
        "\n",
        "        output, hidden = self.seq(output, hidden)\n",
        "\n",
        "        output = self.softmax(F.relu(self.out(output.squeeze(1))))\n",
        "\n",
        "        return output, hidden\n",
        "\n",
        "    def initHidden(self, batch_size, device):\n",
        "        if self.typ == \"LSTM\":\n",
        "            return (torch.randn((1 + int(self.bidirectional)) * self.numLayers, batch_size, self.hiddenSize,\n",
        "                                device=device), torch.randn((1 + int(self.bidirectional)) * self.numLayers, batch_size,\n",
        "                                                           self.hiddenSize, device=device))\n",
        "\n",
        "        return torch.randn((1 + int(self.bidirectional)) * self.numLayers, batch_size, self.hiddenSize, device=device)\n"
      ],
      "metadata": {
        "id": "OT74BCRHmQTx"
      },
      "execution_count": null,
      "outputs": []
    },
    {
      "cell_type": "code",
      "source": [
        "'''\n",
        "Same train function but with attention argument as True\n",
        "'''\n",
        "def train_withattn(useAttn=True ,print_every=1, learning_rate=0.001, visualize=False):\n",
        "    \n",
        "    config_defaults={\n",
        "      'inp_embed_size': 256,\n",
        "      'num_enc_layers' : 2,\n",
        "      'num_dec_layers' : 2,\n",
        "      'hidden_size': 512,\n",
        "      'cell_type': 'GRU',\n",
        "      'bidirectional': False,\n",
        "      'dropout': 0.25\n",
        "    }\n",
        "    \n",
        "    wandb.init(config=config_defaults)\n",
        "    config = wandb.config\n",
        "\n",
        "    hiddenSize = config.hidden_size\n",
        "    epochs = 5\n",
        "    backbone = config.cell_type\n",
        "    embedSize = config.inp_embed_size\n",
        "    num_enc_layers= config.num_enc_layers\n",
        "    num_dec_layers= config.num_dec_layers\n",
        "    dropout= config.dropout\n",
        "    bidirectional= config.bidirectional\n",
        "\n",
        "    path = \"/content/drive/MyDrive/aksharantar_sampled/\"\n",
        "    teacherForcingRatio=0.0\n",
        "    language='hin'\n",
        "    batch_size=32 \n",
        "    teacherForcingRatio = 0.0\n",
        "\n",
        "    trainData = dataset(path, lang=language, typ=\"train\")\n",
        "    valData = dataset(path, lang=language, typ=\"val\")\n",
        "    testData = dataset(path, lang=language, typ=\"test\")\n",
        "\n",
        "    trainLoader = DataLoader(trainData, batch_size=batch_size)\n",
        "    valLoader = DataLoader(valData, batch_size=batch_size)\n",
        "    testLoader = DataLoader(testData, batch_size=batch_size)\n",
        "\n",
        "    sowToken = trainData.x2TDict[\"\\t\"] #hardcoded\n",
        "    eowToken = trainData.x2TDict[\"\\n\"] #hardcoded\n",
        "\n",
        "    device = torch.device(\"cuda\" if torch.cuda.is_available() else \"cpu\")\n",
        "    \n",
        "    inputSize = trainData.xLen\n",
        "    outputSize = trainData.yLen\n",
        "\n",
        "    encoder = Encoder(inputSize, embedSize, hiddenSize, num_enc_layers, dropout, bidirectional, backbone).to(device)\n",
        "    decoder = AttentionDecoder(outputSize, hiddenSize, num_enc_layers, inputSize, dropout, bidirectional, backbone).to(device)\n",
        "    print_loss_total = 0  # Reset every print_every\n",
        "\n",
        "    encOptim = Adam(encoder.parameters(), lr=learning_rate)\n",
        "    decOptim = Adam(decoder.parameters(), lr=learning_rate) \n",
        "\n",
        "    criterion = nn.NLLLoss()\n",
        "\n",
        "    for epoch in range(1, epochs + 1):\n",
        "        loop_obj = tqdm(trainLoader)\n",
        "        epochTrainAccW, epochTrainAccC,epochTrainLoss = [], [], []\n",
        "        for training_pair in loop_obj:\n",
        "            inputTensor = training_pair[0].to(device)\n",
        "            targetTensor = training_pair[1].to(device)\n",
        "\n",
        "            loss, accW, accC = calc_loss(inputTensor, targetTensor, encoder, decoder, encOptim, decOptim, criterion, inputSize, useAttn)\n",
        "            \n",
        "\n",
        "            loop_obj.set_postfix({f\"Loss\": f\"{loss:0.3f}\"})\n",
        "            loop_obj.set_description(f\"Epoch {epoch}\")\n",
        "            \n",
        "            epochTrainLoss.append(loss)\n",
        "            epochTrainAccW.append(accW)\n",
        "            epochTrainAccC.append(accC)\n",
        "\n",
        "        print(f\"Training Loss is {sum(epochTrainLoss)/len(epochTrainLoss)}\")        \n",
        "        print(f\"Training Word Accuracy is {sum(epochTrainAccW)/len(epochTrainAccW)}\")\n",
        "        print(f\"Training Character Accuracy is {sum(epochTrainAccC)/len(epochTrainAccC)}\")\n",
        "\n",
        "        epochValLoss, epochValAccW, epochValAccC = [],  [], []\n",
        "\n",
        "        if epoch % print_every == 0:\n",
        "            with torch.no_grad():\n",
        "                print(\"Starting Validation\")\n",
        "\n",
        "                for pair in tqdm(valLoader):\n",
        "                    loss, accW, accC = evaluate(encoder, decoder, pair, criterion)\n",
        "\n",
        "                    epochValLoss.append(loss)\n",
        "                    epochValAccW.append(accW)\n",
        "                    epochValAccC.append(accC)\n",
        "                name_run=\"run_attn\" + '_' + str(config.cell_type) + '_' +str(config.hidden_size) + '_' + str(config.inp_embed_size)\n",
        "                wandb.run.name = name_run\n",
        "                wandb_log=True\n",
        "                log_dict = {\"Train_loss\": np.min(epochTrainLoss), \"Validation_loss\": np.min(epochValLoss), \"Train_char_Accuracy\": np.max(epochTrainAccC), \"Validation_char_Accuracy\":np.max(epochValAccC)}\n",
        "                wandb.log(log_dict)\n",
        "                print(f\"Validation Loss is {sum(epochValLoss)/len(epochValLoss)}\")        \n",
        "                print(f\"Validation Word Accuracy is {sum(epochValAccW)/len(epochValAccW)}\")\n",
        "                print(f\"Validation Character Accuracy is {sum(epochValAccC)/len(epochValAccC)}\")\n",
        "    wandb.run.save()\n",
        "    wandb.run.finish()"
      ],
      "metadata": {
        "id": "tf10uOb682uQ"
      },
      "execution_count": null,
      "outputs": []
    },
    {
      "cell_type": "code",
      "source": [
        "train_withattn()"
      ],
      "metadata": {
        "colab": {
          "base_uri": "https://localhost:8080/",
          "height": 1000
        },
        "id": "nOvn2AU-J2ln",
        "outputId": "874513e4-8348-4c66-dcc9-0b6882c548d4"
      },
      "execution_count": null,
      "outputs": [
        {
          "output_type": "display_data",
          "data": {
            "text/plain": [
              "<IPython.core.display.HTML object>"
            ],
            "text/html": [
              "Changes to your `wandb` environment variables will be ignored because your `wandb` session has already started. For more information on how to modify your settings with `wandb.init()` arguments, please refer to <a href='https://wandb.me/wandb-init' target=\"_blank\">the W&B docs</a>."
            ]
          },
          "metadata": {}
        },
        {
          "output_type": "display_data",
          "data": {
            "text/plain": [
              "<IPython.core.display.HTML object>"
            ],
            "text/html": [
              "Finishing last run (ID:82cmbzal) before initializing another..."
            ]
          },
          "metadata": {}
        },
        {
          "output_type": "display_data",
          "data": {
            "text/plain": [
              "<IPython.core.display.HTML object>"
            ],
            "text/html": [
              "Waiting for W&B process to finish... <strong style=\"color:green\">(success).</strong>"
            ]
          },
          "metadata": {}
        },
        {
          "output_type": "display_data",
          "data": {
            "text/plain": [
              "<IPython.core.display.HTML object>"
            ],
            "text/html": [
              " View run <strong style=\"color:#cdcd00\">soft-sweep-2</strong> at: <a href='https://wandb.ai/siddharth-s/FODL_Assignment_3/runs/82cmbzal' target=\"_blank\">https://wandb.ai/siddharth-s/FODL_Assignment_3/runs/82cmbzal</a><br/>Synced 5 W&B file(s), 0 media file(s), 0 artifact file(s) and 0 other file(s)"
            ]
          },
          "metadata": {}
        },
        {
          "output_type": "display_data",
          "data": {
            "text/plain": [
              "<IPython.core.display.HTML object>"
            ],
            "text/html": [
              "Find logs at: <code>./wandb/run-20230515_204334-82cmbzal/logs</code>"
            ]
          },
          "metadata": {}
        },
        {
          "output_type": "display_data",
          "data": {
            "text/plain": [
              "<IPython.core.display.HTML object>"
            ],
            "text/html": [
              "Successfully finished last run (ID:82cmbzal). Initializing new run:<br/>"
            ]
          },
          "metadata": {}
        },
        {
          "output_type": "display_data",
          "data": {
            "text/plain": [
              "<IPython.core.display.HTML object>"
            ],
            "text/html": [
              "Tracking run with wandb version 0.15.2"
            ]
          },
          "metadata": {}
        },
        {
          "output_type": "display_data",
          "data": {
            "text/plain": [
              "<IPython.core.display.HTML object>"
            ],
            "text/html": [
              "Run data is saved locally in <code>/content/wandb/run-20230515_204454-82cmbzal</code>"
            ]
          },
          "metadata": {}
        },
        {
          "output_type": "display_data",
          "data": {
            "text/plain": [
              "<IPython.core.display.HTML object>"
            ],
            "text/html": [
              "Syncing run <strong><a href='https://wandb.ai/siddharth-s/FODL_Assignment_3/runs/82cmbzal' target=\"_blank\">soft-sweep-2</a></strong> to <a href='https://wandb.ai/siddharth-s/FODL_Assignment_3' target=\"_blank\">Weights & Biases</a> (<a href='https://wandb.me/run' target=\"_blank\">docs</a>)<br/>Sweep page: <a href='https://wandb.ai/siddharth-s/FODL_Assignment_3/sweeps/2vyo58go' target=\"_blank\">https://wandb.ai/siddharth-s/FODL_Assignment_3/sweeps/2vyo58go</a>"
            ]
          },
          "metadata": {}
        },
        {
          "output_type": "display_data",
          "data": {
            "text/plain": [
              "<IPython.core.display.HTML object>"
            ],
            "text/html": [
              " View project at <a href='https://wandb.ai/siddharth-s/FODL_Assignment_3' target=\"_blank\">https://wandb.ai/siddharth-s/FODL_Assignment_3</a>"
            ]
          },
          "metadata": {}
        },
        {
          "output_type": "display_data",
          "data": {
            "text/plain": [
              "<IPython.core.display.HTML object>"
            ],
            "text/html": [
              " View sweep at <a href='https://wandb.ai/siddharth-s/FODL_Assignment_3/sweeps/2vyo58go' target=\"_blank\">https://wandb.ai/siddharth-s/FODL_Assignment_3/sweeps/2vyo58go</a>"
            ]
          },
          "metadata": {}
        },
        {
          "output_type": "display_data",
          "data": {
            "text/plain": [
              "<IPython.core.display.HTML object>"
            ],
            "text/html": [
              " View run at <a href='https://wandb.ai/siddharth-s/FODL_Assignment_3/runs/82cmbzal' target=\"_blank\">https://wandb.ai/siddharth-s/FODL_Assignment_3/runs/82cmbzal</a>"
            ]
          },
          "metadata": {}
        },
        {
          "output_type": "stream",
          "name": "stderr",
          "text": [
            "/usr/local/lib/python3.10/dist-packages/torch/nn/modules/rnn.py:71: UserWarning: dropout option adds dropout after all but last recurrent layer, so non-zero dropout expects num_layers greater than 1, but got dropout=0.25 and num_layers=1\n",
            "  warnings.warn(\"dropout option adds dropout after all but last \"\n",
            "  0%|          | 0/1600 [00:00<?, ?it/s]\n"
          ]
        },
        {
          "output_type": "error",
          "ename": "RuntimeError",
          "evalue": "ignored",
          "traceback": [
            "\u001b[0;31m---------------------------------------------------------------------------\u001b[0m",
            "\u001b[0;31mRuntimeError\u001b[0m                              Traceback (most recent call last)",
            "\u001b[0;32m<ipython-input-47-6167064fba0b>\u001b[0m in \u001b[0;36m<cell line: 1>\u001b[0;34m()\u001b[0m\n\u001b[0;32m----> 1\u001b[0;31m \u001b[0mtrain_withattn\u001b[0m\u001b[0;34m(\u001b[0m\u001b[0;34m)\u001b[0m\u001b[0;34m\u001b[0m\u001b[0;34m\u001b[0m\u001b[0m\n\u001b[0m",
            "\u001b[0;32m<ipython-input-46-e8e290808e04>\u001b[0m in \u001b[0;36mtrain_withattn\u001b[0;34m(useAttn, print_every, learning_rate, visualize)\u001b[0m\n\u001b[1;32m     61\u001b[0m             \u001b[0mtargetTensor\u001b[0m \u001b[0;34m=\u001b[0m \u001b[0mtraining_pair\u001b[0m\u001b[0;34m[\u001b[0m\u001b[0;36m1\u001b[0m\u001b[0;34m]\u001b[0m\u001b[0;34m.\u001b[0m\u001b[0mto\u001b[0m\u001b[0;34m(\u001b[0m\u001b[0mdevice\u001b[0m\u001b[0;34m)\u001b[0m\u001b[0;34m\u001b[0m\u001b[0;34m\u001b[0m\u001b[0m\n\u001b[1;32m     62\u001b[0m \u001b[0;34m\u001b[0m\u001b[0m\n\u001b[0;32m---> 63\u001b[0;31m             \u001b[0mloss\u001b[0m\u001b[0;34m,\u001b[0m \u001b[0maccW\u001b[0m\u001b[0;34m,\u001b[0m \u001b[0maccC\u001b[0m \u001b[0;34m=\u001b[0m \u001b[0mcalc_loss\u001b[0m\u001b[0;34m(\u001b[0m\u001b[0minputTensor\u001b[0m\u001b[0;34m,\u001b[0m \u001b[0mtargetTensor\u001b[0m\u001b[0;34m,\u001b[0m \u001b[0mencoder\u001b[0m\u001b[0;34m,\u001b[0m \u001b[0mdecoder\u001b[0m\u001b[0;34m,\u001b[0m \u001b[0mencOptim\u001b[0m\u001b[0;34m,\u001b[0m \u001b[0mdecOptim\u001b[0m\u001b[0;34m,\u001b[0m \u001b[0mcriterion\u001b[0m\u001b[0;34m,\u001b[0m \u001b[0minputSize\u001b[0m\u001b[0;34m,\u001b[0m \u001b[0museAttn\u001b[0m\u001b[0;34m)\u001b[0m\u001b[0;34m\u001b[0m\u001b[0;34m\u001b[0m\u001b[0m\n\u001b[0m\u001b[1;32m     64\u001b[0m \u001b[0;34m\u001b[0m\u001b[0m\n\u001b[1;32m     65\u001b[0m \u001b[0;34m\u001b[0m\u001b[0m\n",
            "\u001b[0;32m<ipython-input-10-9fe1d87e0fd7>\u001b[0m in \u001b[0;36mcalc_loss\u001b[0;34m(inputTensor, targetTensor, encoder, decoder, encOptim, decOptim, criterion, maxLen, useAttn)\u001b[0m\n\u001b[1;32m     71\u001b[0m         \u001b[0;32mif\u001b[0m \u001b[0museAttn\u001b[0m\u001b[0;34m:\u001b[0m\u001b[0;34m\u001b[0m\u001b[0;34m\u001b[0m\u001b[0m\n\u001b[1;32m     72\u001b[0m             \u001b[0;32mfor\u001b[0m \u001b[0mdi\u001b[0m \u001b[0;32min\u001b[0m \u001b[0mrange\u001b[0m\u001b[0;34m(\u001b[0m\u001b[0mtargetLen\u001b[0m\u001b[0;34m)\u001b[0m\u001b[0;34m:\u001b[0m\u001b[0;34m\u001b[0m\u001b[0;34m\u001b[0m\u001b[0m\n\u001b[0;32m---> 73\u001b[0;31m                 \u001b[0mdecOutput\u001b[0m\u001b[0;34m,\u001b[0m \u001b[0mdecHidden\u001b[0m \u001b[0;34m=\u001b[0m \u001b[0mdecoder\u001b[0m\u001b[0;34m(\u001b[0m\u001b[0mdecInput\u001b[0m\u001b[0;34m,\u001b[0m \u001b[0mdecHidden\u001b[0m\u001b[0;34m,\u001b[0m \u001b[0mencOutputs\u001b[0m\u001b[0;34m)\u001b[0m\u001b[0;34m\u001b[0m\u001b[0;34m\u001b[0m\u001b[0m\n\u001b[0m\u001b[1;32m     74\u001b[0m \u001b[0;34m\u001b[0m\u001b[0m\n\u001b[1;32m     75\u001b[0m                 \u001b[0moutputs\u001b[0m\u001b[0;34m[\u001b[0m\u001b[0;34m:\u001b[0m\u001b[0;34m,\u001b[0m \u001b[0mdi\u001b[0m\u001b[0;34m]\u001b[0m \u001b[0;34m=\u001b[0m \u001b[0mdecOutput\u001b[0m\u001b[0;34m.\u001b[0m\u001b[0msqueeze\u001b[0m\u001b[0;34m(\u001b[0m\u001b[0;36m1\u001b[0m\u001b[0;34m)\u001b[0m\u001b[0;34m\u001b[0m\u001b[0;34m\u001b[0m\u001b[0m\n",
            "\u001b[0;32m/usr/local/lib/python3.10/dist-packages/torch/nn/modules/module.py\u001b[0m in \u001b[0;36m_call_impl\u001b[0;34m(self, *args, **kwargs)\u001b[0m\n\u001b[1;32m   1499\u001b[0m                 \u001b[0;32mor\u001b[0m \u001b[0m_global_backward_pre_hooks\u001b[0m \u001b[0;32mor\u001b[0m \u001b[0m_global_backward_hooks\u001b[0m\u001b[0;34m\u001b[0m\u001b[0;34m\u001b[0m\u001b[0m\n\u001b[1;32m   1500\u001b[0m                 or _global_forward_hooks or _global_forward_pre_hooks):\n\u001b[0;32m-> 1501\u001b[0;31m             \u001b[0;32mreturn\u001b[0m \u001b[0mforward_call\u001b[0m\u001b[0;34m(\u001b[0m\u001b[0;34m*\u001b[0m\u001b[0margs\u001b[0m\u001b[0;34m,\u001b[0m \u001b[0;34m**\u001b[0m\u001b[0mkwargs\u001b[0m\u001b[0;34m)\u001b[0m\u001b[0;34m\u001b[0m\u001b[0;34m\u001b[0m\u001b[0m\n\u001b[0m\u001b[1;32m   1502\u001b[0m         \u001b[0;31m# Do not call functions when jit is used\u001b[0m\u001b[0;34m\u001b[0m\u001b[0;34m\u001b[0m\u001b[0m\n\u001b[1;32m   1503\u001b[0m         \u001b[0mfull_backward_hooks\u001b[0m\u001b[0;34m,\u001b[0m \u001b[0mnon_full_backward_hooks\u001b[0m \u001b[0;34m=\u001b[0m \u001b[0;34m[\u001b[0m\u001b[0;34m]\u001b[0m\u001b[0;34m,\u001b[0m \u001b[0;34m[\u001b[0m\u001b[0;34m]\u001b[0m\u001b[0;34m\u001b[0m\u001b[0;34m\u001b[0m\u001b[0m\n",
            "\u001b[0;32m<ipython-input-28-b5fb1d5ac64f>\u001b[0m in \u001b[0;36mforward\u001b[0;34m(self, input, hidden, encoderOutputs)\u001b[0m\n\u001b[1;32m     26\u001b[0m         \u001b[0membed\u001b[0m \u001b[0;34m=\u001b[0m \u001b[0mself\u001b[0m\u001b[0;34m.\u001b[0m\u001b[0membedding\u001b[0m\u001b[0;34m(\u001b[0m\u001b[0minput\u001b[0m\u001b[0;34m)\u001b[0m\u001b[0;34m.\u001b[0m\u001b[0mview\u001b[0m\u001b[0;34m(\u001b[0m\u001b[0;36m1\u001b[0m\u001b[0;34m,\u001b[0m \u001b[0;36m1\u001b[0m\u001b[0;34m,\u001b[0m \u001b[0;34m-\u001b[0m\u001b[0;36m1\u001b[0m\u001b[0;34m)\u001b[0m\u001b[0;34m\u001b[0m\u001b[0;34m\u001b[0m\u001b[0m\n\u001b[1;32m     27\u001b[0m         \u001b[0;32mif\u001b[0m \u001b[0mself\u001b[0m\u001b[0;34m.\u001b[0m\u001b[0mtyp\u001b[0m \u001b[0;34m==\u001b[0m \u001b[0;34m\"LSTM\"\u001b[0m\u001b[0;34m:\u001b[0m\u001b[0;34m\u001b[0m\u001b[0;34m\u001b[0m\u001b[0m\n\u001b[0;32m---> 28\u001b[0;31m             \u001b[0mattnWeights\u001b[0m \u001b[0;34m=\u001b[0m \u001b[0mF\u001b[0m\u001b[0;34m.\u001b[0m\u001b[0msoftmax\u001b[0m\u001b[0;34m(\u001b[0m\u001b[0mself\u001b[0m\u001b[0;34m.\u001b[0m\u001b[0mattn\u001b[0m\u001b[0;34m(\u001b[0m\u001b[0mtorch\u001b[0m\u001b[0;34m.\u001b[0m\u001b[0mcat\u001b[0m\u001b[0;34m(\u001b[0m\u001b[0;34m(\u001b[0m\u001b[0membed\u001b[0m\u001b[0;34m[\u001b[0m\u001b[0;36m0\u001b[0m\u001b[0;34m]\u001b[0m\u001b[0;34m,\u001b[0m \u001b[0mhidden\u001b[0m\u001b[0;34m[\u001b[0m\u001b[0;36m0\u001b[0m\u001b[0;34m]\u001b[0m\u001b[0;34m[\u001b[0m\u001b[0;36m0\u001b[0m\u001b[0;34m]\u001b[0m\u001b[0;34m)\u001b[0m\u001b[0;34m,\u001b[0m \u001b[0;36m1\u001b[0m\u001b[0;34m)\u001b[0m\u001b[0;34m)\u001b[0m\u001b[0;34m,\u001b[0m \u001b[0mdim\u001b[0m\u001b[0;34m=\u001b[0m\u001b[0;36m1\u001b[0m\u001b[0;34m)\u001b[0m\u001b[0;34m\u001b[0m\u001b[0;34m\u001b[0m\u001b[0m\n\u001b[0m\u001b[1;32m     29\u001b[0m         \u001b[0;32melse\u001b[0m\u001b[0;34m:\u001b[0m\u001b[0;34m\u001b[0m\u001b[0;34m\u001b[0m\u001b[0m\n\u001b[1;32m     30\u001b[0m             \u001b[0mattnWeights\u001b[0m \u001b[0;34m=\u001b[0m \u001b[0mF\u001b[0m\u001b[0;34m.\u001b[0m\u001b[0msoftmax\u001b[0m\u001b[0;34m(\u001b[0m\u001b[0mself\u001b[0m\u001b[0;34m.\u001b[0m\u001b[0mattn\u001b[0m\u001b[0;34m(\u001b[0m\u001b[0mtorch\u001b[0m\u001b[0;34m.\u001b[0m\u001b[0mcat\u001b[0m\u001b[0;34m(\u001b[0m\u001b[0;34m(\u001b[0m\u001b[0membed\u001b[0m\u001b[0;34m[\u001b[0m\u001b[0;36m0\u001b[0m\u001b[0;34m]\u001b[0m\u001b[0;34m,\u001b[0m \u001b[0mhidden\u001b[0m\u001b[0;34m[\u001b[0m\u001b[0;36m0\u001b[0m\u001b[0;34m]\u001b[0m\u001b[0;34m)\u001b[0m\u001b[0;34m,\u001b[0m \u001b[0;36m1\u001b[0m\u001b[0;34m)\u001b[0m\u001b[0;34m)\u001b[0m\u001b[0;34m,\u001b[0m \u001b[0mdim\u001b[0m\u001b[0;34m=\u001b[0m\u001b[0;36m1\u001b[0m\u001b[0;34m)\u001b[0m\u001b[0;34m\u001b[0m\u001b[0;34m\u001b[0m\u001b[0m\n",
            "\u001b[0;31mRuntimeError\u001b[0m: Sizes of tensors must match except in dimension 1. Expected size 1 but got size 32 for tensor number 1 in the list."
          ]
        }
      ]
    },
    {
      "cell_type": "code",
      "source": [
        "sweep_id = wandb.sweep(sweep_config, entity=entity_name, project=project_name)\n",
        "wandb.agent(sweep_id, train_withattn)"
      ],
      "metadata": {
        "colab": {
          "base_uri": "https://localhost:8080/",
          "height": 764,
          "referenced_widgets": [
            "9fb10b8a0d6e490a98db43e8631a9188",
            "908cc4d677cb43c69d6ad52eb77dc8b0",
            "ae79f6926f3c4116bb140ca9b359400f",
            "2226c139eb1842df949dcfb69d2724f6",
            "d671429c76bc4471a911b0a1fb4a76cb",
            "7968e00a76cd4542ae8c5a798ac0578c",
            "31d609aebc7d4869a9f9c894c2dccaa1",
            "3a80b6e5e861494cb0aa052bd8069774"
          ]
        },
        "id": "FJDlQv-hO4lC",
        "outputId": "35d5136e-ac43-45d9-c2b2-ec6d95e74844"
      },
      "execution_count": null,
      "outputs": [
        {
          "output_type": "stream",
          "name": "stdout",
          "text": [
            "Create sweep with ID: 2vyo58go\n",
            "Sweep URL: https://wandb.ai/siddharth-s/FODL_Assignment_3/sweeps/2vyo58go\n"
          ]
        },
        {
          "output_type": "stream",
          "name": "stderr",
          "text": [
            "\u001b[34m\u001b[1mwandb\u001b[0m: Agent Starting Run: obzjld3l with config:\n",
            "\u001b[34m\u001b[1mwandb\u001b[0m: \tbidirectional: False\n",
            "\u001b[34m\u001b[1mwandb\u001b[0m: \tcell_type: GRU\n",
            "\u001b[34m\u001b[1mwandb\u001b[0m: \tdropout: 0.25\n",
            "\u001b[34m\u001b[1mwandb\u001b[0m: \thidden_size: 256\n",
            "\u001b[34m\u001b[1mwandb\u001b[0m: \tinp_embed_size: 64\n",
            "\u001b[34m\u001b[1mwandb\u001b[0m: \tnum_dec_layers: 4\n",
            "\u001b[34m\u001b[1mwandb\u001b[0m: \tnum_enc_layers: 1\n"
          ]
        },
        {
          "output_type": "display_data",
          "data": {
            "text/plain": [
              "<IPython.core.display.HTML object>"
            ],
            "text/html": [
              "Tracking run with wandb version 0.15.2"
            ]
          },
          "metadata": {}
        },
        {
          "output_type": "display_data",
          "data": {
            "text/plain": [
              "<IPython.core.display.HTML object>"
            ],
            "text/html": [
              "Run data is saved locally in <code>/content/wandb/run-20230515_203801-obzjld3l</code>"
            ]
          },
          "metadata": {}
        },
        {
          "output_type": "display_data",
          "data": {
            "text/plain": [
              "<IPython.core.display.HTML object>"
            ],
            "text/html": [
              "Syncing run <strong><a href='https://wandb.ai/siddharth-s/FODL_Assignment_3/runs/obzjld3l' target=\"_blank\">dry-sweep-1</a></strong> to <a href='https://wandb.ai/siddharth-s/FODL_Assignment_3' target=\"_blank\">Weights & Biases</a> (<a href='https://wandb.me/run' target=\"_blank\">docs</a>)<br/>Sweep page: <a href='https://wandb.ai/siddharth-s/FODL_Assignment_3/sweeps/2vyo58go' target=\"_blank\">https://wandb.ai/siddharth-s/FODL_Assignment_3/sweeps/2vyo58go</a>"
            ]
          },
          "metadata": {}
        },
        {
          "output_type": "display_data",
          "data": {
            "text/plain": [
              "<IPython.core.display.HTML object>"
            ],
            "text/html": [
              " View project at <a href='https://wandb.ai/siddharth-s/FODL_Assignment_3' target=\"_blank\">https://wandb.ai/siddharth-s/FODL_Assignment_3</a>"
            ]
          },
          "metadata": {}
        },
        {
          "output_type": "display_data",
          "data": {
            "text/plain": [
              "<IPython.core.display.HTML object>"
            ],
            "text/html": [
              " View sweep at <a href='https://wandb.ai/siddharth-s/FODL_Assignment_3/sweeps/2vyo58go' target=\"_blank\">https://wandb.ai/siddharth-s/FODL_Assignment_3/sweeps/2vyo58go</a>"
            ]
          },
          "metadata": {}
        },
        {
          "output_type": "display_data",
          "data": {
            "text/plain": [
              "<IPython.core.display.HTML object>"
            ],
            "text/html": [
              " View run at <a href='https://wandb.ai/siddharth-s/FODL_Assignment_3/runs/obzjld3l' target=\"_blank\">https://wandb.ai/siddharth-s/FODL_Assignment_3/runs/obzjld3l</a>"
            ]
          },
          "metadata": {}
        },
        {
          "output_type": "stream",
          "name": "stderr",
          "text": [
            "/usr/local/lib/python3.10/dist-packages/torch/nn/modules/rnn.py:71: UserWarning: dropout option adds dropout after all but last recurrent layer, so non-zero dropout expects num_layers greater than 1, but got dropout=0.25 and num_layers=1\n",
            "  warnings.warn(\"dropout option adds dropout after all but last \"\n",
            "  0%|          | 0/1600 [00:00<?, ?it/s]\n"
          ]
        },
        {
          "output_type": "display_data",
          "data": {
            "text/plain": [
              "<IPython.core.display.HTML object>"
            ],
            "text/html": [
              "Waiting for W&B process to finish... <strong style=\"color:red\">(failed 1).</strong> Press Control-C to abort syncing."
            ]
          },
          "metadata": {}
        },
        {
          "output_type": "display_data",
          "data": {
            "text/plain": [
              "VBox(children=(Label(value='0.001 MB of 0.001 MB uploaded (0.000 MB deduped)\\r'), FloatProgress(value=1.0, max…"
            ],
            "application/vnd.jupyter.widget-view+json": {
              "version_major": 2,
              "version_minor": 0,
              "model_id": "9fb10b8a0d6e490a98db43e8631a9188"
            }
          },
          "metadata": {}
        },
        {
          "output_type": "display_data",
          "data": {
            "text/plain": [
              "<IPython.core.display.HTML object>"
            ],
            "text/html": [
              " View run <strong style=\"color:#cdcd00\">dry-sweep-1</strong> at: <a href='https://wandb.ai/siddharth-s/FODL_Assignment_3/runs/obzjld3l' target=\"_blank\">https://wandb.ai/siddharth-s/FODL_Assignment_3/runs/obzjld3l</a><br/>Synced 5 W&B file(s), 0 media file(s), 0 artifact file(s) and 0 other file(s)"
            ]
          },
          "metadata": {}
        },
        {
          "output_type": "display_data",
          "data": {
            "text/plain": [
              "<IPython.core.display.HTML object>"
            ],
            "text/html": [
              "Find logs at: <code>./wandb/run-20230515_203801-obzjld3l/logs</code>"
            ]
          },
          "metadata": {}
        },
        {
          "output_type": "stream",
          "name": "stderr",
          "text": [
            "Run obzjld3l errored: RuntimeError('Sizes of tensors must match except in dimension 1. Expected size 1 but got size 32 for tensor number 1 in the list.')\n",
            "\u001b[34m\u001b[1mwandb\u001b[0m: \u001b[32m\u001b[41mERROR\u001b[0m Run obzjld3l errored: RuntimeError('Sizes of tensors must match except in dimension 1. Expected size 1 but got size 32 for tensor number 1 in the list.')\n",
            "\u001b[34m\u001b[1mwandb\u001b[0m: Sweep Agent: Waiting for job.\n",
            "\u001b[34m\u001b[1mwandb\u001b[0m: Job received.\n",
            "\u001b[34m\u001b[1mwandb\u001b[0m: Agent Starting Run: 82cmbzal with config:\n",
            "\u001b[34m\u001b[1mwandb\u001b[0m: \tbidirectional: True\n",
            "\u001b[34m\u001b[1mwandb\u001b[0m: \tcell_type: LSTM\n",
            "\u001b[34m\u001b[1mwandb\u001b[0m: \tdropout: 0.25\n",
            "\u001b[34m\u001b[1mwandb\u001b[0m: \thidden_size: 512\n",
            "\u001b[34m\u001b[1mwandb\u001b[0m: \tinp_embed_size: 256\n",
            "\u001b[34m\u001b[1mwandb\u001b[0m: \tnum_dec_layers: 2\n",
            "\u001b[34m\u001b[1mwandb\u001b[0m: \tnum_enc_layers: 1\n",
            "\u001b[34m\u001b[1mwandb\u001b[0m: Ctrl + C detected. Stopping sweep.\n"
          ]
        }
      ]
    }
  ],
  "metadata": {
    "colab": {
      "provenance": [],
      "gpuType": "T4",
      "mount_file_id": "19aaeXktgOsuw2kEIUWgnwQZmz_eK8Ost",
      "authorship_tag": "ABX9TyMU2MVJXjBR6eFKJtiTh3UX",
      "include_colab_link": true
    },
    "kernelspec": {
      "display_name": "Python 3",
      "name": "python3"
    },
    "language_info": {
      "name": "python"
    },
    "gpuClass": "standard",
    "accelerator": "GPU",
    "widgets": {
      "application/vnd.jupyter.widget-state+json": {
        "9fb10b8a0d6e490a98db43e8631a9188": {
          "model_module": "@jupyter-widgets/controls",
          "model_name": "VBoxModel",
          "model_module_version": "1.5.0",
          "state": {
            "_dom_classes": [],
            "_model_module": "@jupyter-widgets/controls",
            "_model_module_version": "1.5.0",
            "_model_name": "VBoxModel",
            "_view_count": null,
            "_view_module": "@jupyter-widgets/controls",
            "_view_module_version": "1.5.0",
            "_view_name": "VBoxView",
            "box_style": "",
            "children": [
              "IPY_MODEL_908cc4d677cb43c69d6ad52eb77dc8b0",
              "IPY_MODEL_ae79f6926f3c4116bb140ca9b359400f"
            ],
            "layout": "IPY_MODEL_2226c139eb1842df949dcfb69d2724f6"
          }
        },
        "908cc4d677cb43c69d6ad52eb77dc8b0": {
          "model_module": "@jupyter-widgets/controls",
          "model_name": "LabelModel",
          "model_module_version": "1.5.0",
          "state": {
            "_dom_classes": [],
            "_model_module": "@jupyter-widgets/controls",
            "_model_module_version": "1.5.0",
            "_model_name": "LabelModel",
            "_view_count": null,
            "_view_module": "@jupyter-widgets/controls",
            "_view_module_version": "1.5.0",
            "_view_name": "LabelView",
            "description": "",
            "description_tooltip": null,
            "layout": "IPY_MODEL_d671429c76bc4471a911b0a1fb4a76cb",
            "placeholder": "​",
            "style": "IPY_MODEL_7968e00a76cd4542ae8c5a798ac0578c",
            "value": "0.001 MB of 0.009 MB uploaded (0.000 MB deduped)\r"
          }
        },
        "ae79f6926f3c4116bb140ca9b359400f": {
          "model_module": "@jupyter-widgets/controls",
          "model_name": "FloatProgressModel",
          "model_module_version": "1.5.0",
          "state": {
            "_dom_classes": [],
            "_model_module": "@jupyter-widgets/controls",
            "_model_module_version": "1.5.0",
            "_model_name": "FloatProgressModel",
            "_view_count": null,
            "_view_module": "@jupyter-widgets/controls",
            "_view_module_version": "1.5.0",
            "_view_name": "ProgressView",
            "bar_style": "",
            "description": "",
            "description_tooltip": null,
            "layout": "IPY_MODEL_31d609aebc7d4869a9f9c894c2dccaa1",
            "max": 1,
            "min": 0,
            "orientation": "horizontal",
            "style": "IPY_MODEL_3a80b6e5e861494cb0aa052bd8069774",
            "value": 0.11873803044047979
          }
        },
        "2226c139eb1842df949dcfb69d2724f6": {
          "model_module": "@jupyter-widgets/base",
          "model_name": "LayoutModel",
          "model_module_version": "1.2.0",
          "state": {
            "_model_module": "@jupyter-widgets/base",
            "_model_module_version": "1.2.0",
            "_model_name": "LayoutModel",
            "_view_count": null,
            "_view_module": "@jupyter-widgets/base",
            "_view_module_version": "1.2.0",
            "_view_name": "LayoutView",
            "align_content": null,
            "align_items": null,
            "align_self": null,
            "border": null,
            "bottom": null,
            "display": null,
            "flex": null,
            "flex_flow": null,
            "grid_area": null,
            "grid_auto_columns": null,
            "grid_auto_flow": null,
            "grid_auto_rows": null,
            "grid_column": null,
            "grid_gap": null,
            "grid_row": null,
            "grid_template_areas": null,
            "grid_template_columns": null,
            "grid_template_rows": null,
            "height": null,
            "justify_content": null,
            "justify_items": null,
            "left": null,
            "margin": null,
            "max_height": null,
            "max_width": null,
            "min_height": null,
            "min_width": null,
            "object_fit": null,
            "object_position": null,
            "order": null,
            "overflow": null,
            "overflow_x": null,
            "overflow_y": null,
            "padding": null,
            "right": null,
            "top": null,
            "visibility": null,
            "width": null
          }
        },
        "d671429c76bc4471a911b0a1fb4a76cb": {
          "model_module": "@jupyter-widgets/base",
          "model_name": "LayoutModel",
          "model_module_version": "1.2.0",
          "state": {
            "_model_module": "@jupyter-widgets/base",
            "_model_module_version": "1.2.0",
            "_model_name": "LayoutModel",
            "_view_count": null,
            "_view_module": "@jupyter-widgets/base",
            "_view_module_version": "1.2.0",
            "_view_name": "LayoutView",
            "align_content": null,
            "align_items": null,
            "align_self": null,
            "border": null,
            "bottom": null,
            "display": null,
            "flex": null,
            "flex_flow": null,
            "grid_area": null,
            "grid_auto_columns": null,
            "grid_auto_flow": null,
            "grid_auto_rows": null,
            "grid_column": null,
            "grid_gap": null,
            "grid_row": null,
            "grid_template_areas": null,
            "grid_template_columns": null,
            "grid_template_rows": null,
            "height": null,
            "justify_content": null,
            "justify_items": null,
            "left": null,
            "margin": null,
            "max_height": null,
            "max_width": null,
            "min_height": null,
            "min_width": null,
            "object_fit": null,
            "object_position": null,
            "order": null,
            "overflow": null,
            "overflow_x": null,
            "overflow_y": null,
            "padding": null,
            "right": null,
            "top": null,
            "visibility": null,
            "width": null
          }
        },
        "7968e00a76cd4542ae8c5a798ac0578c": {
          "model_module": "@jupyter-widgets/controls",
          "model_name": "DescriptionStyleModel",
          "model_module_version": "1.5.0",
          "state": {
            "_model_module": "@jupyter-widgets/controls",
            "_model_module_version": "1.5.0",
            "_model_name": "DescriptionStyleModel",
            "_view_count": null,
            "_view_module": "@jupyter-widgets/base",
            "_view_module_version": "1.2.0",
            "_view_name": "StyleView",
            "description_width": ""
          }
        },
        "31d609aebc7d4869a9f9c894c2dccaa1": {
          "model_module": "@jupyter-widgets/base",
          "model_name": "LayoutModel",
          "model_module_version": "1.2.0",
          "state": {
            "_model_module": "@jupyter-widgets/base",
            "_model_module_version": "1.2.0",
            "_model_name": "LayoutModel",
            "_view_count": null,
            "_view_module": "@jupyter-widgets/base",
            "_view_module_version": "1.2.0",
            "_view_name": "LayoutView",
            "align_content": null,
            "align_items": null,
            "align_self": null,
            "border": null,
            "bottom": null,
            "display": null,
            "flex": null,
            "flex_flow": null,
            "grid_area": null,
            "grid_auto_columns": null,
            "grid_auto_flow": null,
            "grid_auto_rows": null,
            "grid_column": null,
            "grid_gap": null,
            "grid_row": null,
            "grid_template_areas": null,
            "grid_template_columns": null,
            "grid_template_rows": null,
            "height": null,
            "justify_content": null,
            "justify_items": null,
            "left": null,
            "margin": null,
            "max_height": null,
            "max_width": null,
            "min_height": null,
            "min_width": null,
            "object_fit": null,
            "object_position": null,
            "order": null,
            "overflow": null,
            "overflow_x": null,
            "overflow_y": null,
            "padding": null,
            "right": null,
            "top": null,
            "visibility": null,
            "width": null
          }
        },
        "3a80b6e5e861494cb0aa052bd8069774": {
          "model_module": "@jupyter-widgets/controls",
          "model_name": "ProgressStyleModel",
          "model_module_version": "1.5.0",
          "state": {
            "_model_module": "@jupyter-widgets/controls",
            "_model_module_version": "1.5.0",
            "_model_name": "ProgressStyleModel",
            "_view_count": null,
            "_view_module": "@jupyter-widgets/base",
            "_view_module_version": "1.2.0",
            "_view_name": "StyleView",
            "bar_color": null,
            "description_width": ""
          }
        }
      }
    }
  },
  "nbformat": 4,
  "nbformat_minor": 0
}